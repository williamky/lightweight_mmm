{
 "cells": [
  {
   "cell_type": "markdown",
   "metadata": {
    "id": "view-in-github"
   },
   "source": [
    "<a href=\"https://colab.research.google.com/github/takechanman1228/mmm_pydata_global_2022/blob/main/simple_end_to_end_demo_pydataglobal.ipynb\" target=\"_parent\"><img src=\"https://colab.research.google.com/assets/colab-badge.svg\" alt=\"Open In Colab\"/></a>"
   ]
  },
  {
   "cell_type": "markdown",
   "metadata": {
    "id": "x1LyGCNZhWBH"
   },
   "source": [
    ":<table class=\"tfo-notebook-buttons\" align=\"left\">\n",
    "  <td>\n",
    "    <a target=\"_blank\" href=\"https://colab.research.google.com/github/takechanman1228/mmm_pydata_global_2022/blob/main/simple_end_to_end_demo_pydataglobal.ipynb\"><img src=\"https://www.tensorflow.org/images/colab_logo_32px.png\" />Run in Google Colab</a>\n",
    "  </td>\n",
    "  <td>\n",
    "    <a target=\"_blank\" href=\"https://github.com/takechanman1228/mmm_pydata_global_2022/blob/main/simple_end_to_end_demo_pydataglobal.ipynb\"><img src=\"https://www.tensorflow.org/images/GitHub-Mark-32px.png\" />View source on GitHub</a>\n",
    "  </td>\n",
    "</table>"
   ]
  },
  {
   "cell_type": "markdown",
   "metadata": {
    "id": "AEdi78qH1Jhq"
   },
   "source": [
    "# Simple End to End Demo"
   ]
  },
  {
   "cell_type": "markdown",
   "metadata": {
    "id": "gmrJXoY2PlKI"
   },
   "source": [
    "<font color='red'> This notebook is based on a tutorial notebook of lightweight_mmm. </font>\n",
    "\n",
    "https://github.com/google/lightweight_mmm/blob/main/examples/simple_end_to_end_demo.ipynb\n",
    "\n",
    "<font color='red'> Also, this notebook uses data set from this repository</font>\n",
    "\n",
    "https://github.com/sibylhe/mmm_stan"
   ]
  },
  {
   "cell_type": "markdown",
   "metadata": {
    "id": "WmpDBp6dusp0"
   },
   "source": [
    "For running chains in parallel you can set the number of CPUs at the begining of the program like the following:\n",
    "`numpyro.set_host_device_count(n)`"
   ]
  },
  {
   "cell_type": "code",
   "execution_count": 1,
   "metadata": {
    "colab": {
     "base_uri": "https://localhost:8080/",
     "height": 1000
    },
    "executionInfo": {
     "elapsed": 23821,
     "status": "ok",
     "timestamp": 1714466091338,
     "user": {
      "displayName": "William Yau",
      "userId": "03133457837099415069"
     },
     "user_tz": -60
    },
    "id": "EmkFKiQjZ7kC",
    "outputId": "98a691c0-c4f9-41d6-98cc-7e5fa98aeabf"
   },
   "outputs": [
    {
     "name": "stdout",
     "output_type": "stream",
     "text": [
      "\u001b[33mWARNING: Ignoring invalid distribution -s50 (/Users/williamyau/opt/anaconda3/lib/python3.8/site-packages)\u001b[0m\u001b[33m\n",
      "\u001b[0mCollecting git+https://github.com/google/lightweight_mmm.git\n",
      "  Cloning https://github.com/google/lightweight_mmm.git to /private/var/folders/zy/0yc78h6x5xq7w_xzp3jlfvzr0000gn/T/pip-req-build-rkrqs2lj\n",
      "  Running command git clone --filter=blob:none --quiet https://github.com/google/lightweight_mmm.git /private/var/folders/zy/0yc78h6x5xq7w_xzp3jlfvzr0000gn/T/pip-req-build-rkrqs2lj\n",
      "  Resolved https://github.com/google/lightweight_mmm.git to commit 4406aaa77bddc5b0d73d31c6cf4f2ace03f3ffda\n",
      "  Preparing metadata (setup.py) ... \u001b[?25ldone\n",
      "\u001b[?25hRequirement already satisfied: absl-py in /Users/williamyau/opt/anaconda3/lib/python3.8/site-packages (from lightweight-mmm==0.1.9) (2.1.0)\n",
      "Requirement already satisfied: arviz>=0.11.2 in /Users/williamyau/opt/anaconda3/lib/python3.8/site-packages (from lightweight-mmm==0.1.9) (0.15.1)\n",
      "Requirement already satisfied: immutabledict>=2.0.0 in /Users/williamyau/opt/anaconda3/lib/python3.8/site-packages (from lightweight-mmm==0.1.9) (4.1.0)\n",
      "Requirement already satisfied: jax>=0.3.18 in /Users/williamyau/opt/anaconda3/lib/python3.8/site-packages (from lightweight-mmm==0.1.9) (0.4.13)\n",
      "Requirement already satisfied: jaxlib>=0.3.18 in /Users/williamyau/opt/anaconda3/lib/python3.8/site-packages (from lightweight-mmm==0.1.9) (0.4.13)\n",
      "Collecting matplotlib==3.6.1 (from lightweight-mmm==0.1.9)\n",
      "  Using cached matplotlib-3.6.1-cp38-cp38-macosx_10_12_x86_64.whl.metadata (6.8 kB)\n",
      "Requirement already satisfied: numpy>=1.23 in /Users/williamyau/opt/anaconda3/lib/python3.8/site-packages (from lightweight-mmm==0.1.9) (1.23.5)\n",
      "Requirement already satisfied: numpyro>=0.9.2 in /Users/williamyau/opt/anaconda3/lib/python3.8/site-packages (from lightweight-mmm==0.1.9) (0.12.1)\n",
      "Requirement already satisfied: pandas>=1.1.5 in /Users/williamyau/opt/anaconda3/lib/python3.8/site-packages (from lightweight-mmm==0.1.9) (2.0.3)\n",
      "Requirement already satisfied: scipy in /Users/williamyau/opt/anaconda3/lib/python3.8/site-packages (from lightweight-mmm==0.1.9) (1.10.1)\n",
      "Collecting seaborn==0.11.1 (from lightweight-mmm==0.1.9)\n",
      "  Downloading seaborn-0.11.1-py3-none-any.whl.metadata (2.3 kB)\n",
      "Requirement already satisfied: scikit-learn in /Users/williamyau/opt/anaconda3/lib/python3.8/site-packages (from lightweight-mmm==0.1.9) (1.2.2)\n",
      "Requirement already satisfied: statsmodels>=0.13.0 in /Users/williamyau/opt/anaconda3/lib/python3.8/site-packages (from lightweight-mmm==0.1.9) (0.14.0)\n",
      "Requirement already satisfied: tensorflow>=2.7.2 in /Users/williamyau/opt/anaconda3/lib/python3.8/site-packages (from lightweight-mmm==0.1.9) (2.13.1)\n",
      "Requirement already satisfied: contourpy>=1.0.1 in /Users/williamyau/opt/anaconda3/lib/python3.8/site-packages (from matplotlib==3.6.1->lightweight-mmm==0.1.9) (1.1.1)\n",
      "Requirement already satisfied: cycler>=0.10 in /Users/williamyau/opt/anaconda3/lib/python3.8/site-packages (from matplotlib==3.6.1->lightweight-mmm==0.1.9) (0.10.0)\n",
      "Requirement already satisfied: fonttools>=4.22.0 in /Users/williamyau/opt/anaconda3/lib/python3.8/site-packages (from matplotlib==3.6.1->lightweight-mmm==0.1.9) (4.49.0)\n",
      "Requirement already satisfied: kiwisolver>=1.0.1 in /Users/williamyau/opt/anaconda3/lib/python3.8/site-packages (from matplotlib==3.6.1->lightweight-mmm==0.1.9) (1.3.1)\n",
      "Requirement already satisfied: packaging>=20.0 in /Users/williamyau/opt/anaconda3/lib/python3.8/site-packages (from matplotlib==3.6.1->lightweight-mmm==0.1.9) (21.3)\n",
      "Requirement already satisfied: pillow>=6.2.0 in /Users/williamyau/opt/anaconda3/lib/python3.8/site-packages (from matplotlib==3.6.1->lightweight-mmm==0.1.9) (9.2.0)\n",
      "Requirement already satisfied: pyparsing>=2.2.1 in /Users/williamyau/opt/anaconda3/lib/python3.8/site-packages (from matplotlib==3.6.1->lightweight-mmm==0.1.9) (3.0.9)\n",
      "Requirement already satisfied: python-dateutil>=2.7 in /Users/williamyau/opt/anaconda3/lib/python3.8/site-packages (from matplotlib==3.6.1->lightweight-mmm==0.1.9) (2.8.2)\n",
      "Requirement already satisfied: setuptools>=60.0.0 in /Users/williamyau/opt/anaconda3/lib/python3.8/site-packages (from arviz>=0.11.2->lightweight-mmm==0.1.9) (65.5.0)\n",
      "Requirement already satisfied: xarray>=0.21.0 in /Users/williamyau/opt/anaconda3/lib/python3.8/site-packages (from arviz>=0.11.2->lightweight-mmm==0.1.9) (2023.1.0)\n",
      "Requirement already satisfied: h5netcdf>=1.0.2 in /Users/williamyau/opt/anaconda3/lib/python3.8/site-packages (from arviz>=0.11.2->lightweight-mmm==0.1.9) (1.1.0)\n",
      "Requirement already satisfied: typing-extensions>=4.1.0 in /Users/williamyau/opt/anaconda3/lib/python3.8/site-packages (from arviz>=0.11.2->lightweight-mmm==0.1.9) (4.3.0)\n",
      "Requirement already satisfied: xarray-einstats>=0.3 in /Users/williamyau/opt/anaconda3/lib/python3.8/site-packages (from arviz>=0.11.2->lightweight-mmm==0.1.9) (0.5.1)\n",
      "Requirement already satisfied: ml-dtypes>=0.1.0 in /Users/williamyau/opt/anaconda3/lib/python3.8/site-packages (from jax>=0.3.18->lightweight-mmm==0.1.9) (0.2.0)\n",
      "Requirement already satisfied: opt-einsum in /Users/williamyau/opt/anaconda3/lib/python3.8/site-packages (from jax>=0.3.18->lightweight-mmm==0.1.9) (3.3.0)\n",
      "Requirement already satisfied: importlib-metadata>=4.6 in /Users/williamyau/opt/anaconda3/lib/python3.8/site-packages (from jax>=0.3.18->lightweight-mmm==0.1.9) (6.8.0)\n",
      "Requirement already satisfied: multipledispatch in /Users/williamyau/opt/anaconda3/lib/python3.8/site-packages (from numpyro>=0.9.2->lightweight-mmm==0.1.9) (1.0.0)\n",
      "Requirement already satisfied: tqdm in /Users/williamyau/opt/anaconda3/lib/python3.8/site-packages (from numpyro>=0.9.2->lightweight-mmm==0.1.9) (4.64.1)\n",
      "Requirement already satisfied: pytz>=2020.1 in /Users/williamyau/opt/anaconda3/lib/python3.8/site-packages (from pandas>=1.1.5->lightweight-mmm==0.1.9) (2022.1)\n",
      "Requirement already satisfied: tzdata>=2022.1 in /Users/williamyau/opt/anaconda3/lib/python3.8/site-packages (from pandas>=1.1.5->lightweight-mmm==0.1.9) (2024.1)\n",
      "Requirement already satisfied: patsy>=0.5.2 in /Users/williamyau/opt/anaconda3/lib/python3.8/site-packages (from statsmodels>=0.13.0->lightweight-mmm==0.1.9) (0.5.2)\n",
      "Requirement already satisfied: astunparse>=1.6.0 in /Users/williamyau/opt/anaconda3/lib/python3.8/site-packages (from tensorflow>=2.7.2->lightweight-mmm==0.1.9) (1.6.3)\n",
      "Requirement already satisfied: flatbuffers>=23.1.21 in /Users/williamyau/opt/anaconda3/lib/python3.8/site-packages (from tensorflow>=2.7.2->lightweight-mmm==0.1.9) (23.5.26)\n",
      "Requirement already satisfied: gast<=0.4.0,>=0.2.1 in /Users/williamyau/opt/anaconda3/lib/python3.8/site-packages (from tensorflow>=2.7.2->lightweight-mmm==0.1.9) (0.4.0)\n",
      "Requirement already satisfied: google-pasta>=0.1.1 in /Users/williamyau/opt/anaconda3/lib/python3.8/site-packages (from tensorflow>=2.7.2->lightweight-mmm==0.1.9) (0.2.0)\n",
      "Requirement already satisfied: h5py>=2.9.0 in /Users/williamyau/opt/anaconda3/lib/python3.8/site-packages (from tensorflow>=2.7.2->lightweight-mmm==0.1.9) (3.10.0)\n",
      "Requirement already satisfied: libclang>=13.0.0 in /Users/williamyau/opt/anaconda3/lib/python3.8/site-packages (from tensorflow>=2.7.2->lightweight-mmm==0.1.9) (16.0.6)\n",
      "Requirement already satisfied: protobuf!=4.21.0,!=4.21.1,!=4.21.2,!=4.21.3,!=4.21.4,!=4.21.5,<5.0.0dev,>=3.20.3 in /Users/williamyau/opt/anaconda3/lib/python3.8/site-packages (from tensorflow>=2.7.2->lightweight-mmm==0.1.9) (4.22.1)\n",
      "Requirement already satisfied: six>=1.12.0 in /Users/williamyau/opt/anaconda3/lib/python3.8/site-packages (from tensorflow>=2.7.2->lightweight-mmm==0.1.9) (1.16.0)\n",
      "Requirement already satisfied: termcolor>=1.1.0 in /Users/williamyau/opt/anaconda3/lib/python3.8/site-packages (from tensorflow>=2.7.2->lightweight-mmm==0.1.9) (1.1.0)\n",
      "Requirement already satisfied: wrapt>=1.11.0 in /Users/williamyau/opt/anaconda3/lib/python3.8/site-packages (from tensorflow>=2.7.2->lightweight-mmm==0.1.9) (1.15.0)\n",
      "Requirement already satisfied: grpcio<2.0,>=1.24.3 in /Users/williamyau/opt/anaconda3/lib/python3.8/site-packages (from tensorflow>=2.7.2->lightweight-mmm==0.1.9) (1.51.3)\n",
      "Requirement already satisfied: tensorboard<2.14,>=2.13 in /Users/williamyau/opt/anaconda3/lib/python3.8/site-packages (from tensorflow>=2.7.2->lightweight-mmm==0.1.9) (2.13.0)\n",
      "Requirement already satisfied: tensorflow-estimator<2.14,>=2.13.0 in /Users/williamyau/opt/anaconda3/lib/python3.8/site-packages (from tensorflow>=2.7.2->lightweight-mmm==0.1.9) (2.13.0)\n",
      "Requirement already satisfied: keras<2.14,>=2.13.1 in /Users/williamyau/opt/anaconda3/lib/python3.8/site-packages (from tensorflow>=2.7.2->lightweight-mmm==0.1.9) (2.13.1)\n",
      "Requirement already satisfied: tensorflow-io-gcs-filesystem>=0.23.1 in /Users/williamyau/opt/anaconda3/lib/python3.8/site-packages (from tensorflow>=2.7.2->lightweight-mmm==0.1.9) (0.34.0)\n",
      "Requirement already satisfied: joblib>=1.1.1 in /Users/williamyau/opt/anaconda3/lib/python3.8/site-packages (from scikit-learn->lightweight-mmm==0.1.9) (1.3.2)\n",
      "Requirement already satisfied: threadpoolctl>=2.0.0 in /Users/williamyau/opt/anaconda3/lib/python3.8/site-packages (from scikit-learn->lightweight-mmm==0.1.9) (3.0.0)\n",
      "Requirement already satisfied: wheel<1.0,>=0.23.0 in /Users/williamyau/opt/anaconda3/lib/python3.8/site-packages (from astunparse>=1.6.0->tensorflow>=2.7.2->lightweight-mmm==0.1.9) (0.37.1)\n",
      "Requirement already satisfied: zipp>=0.5 in /Users/williamyau/opt/anaconda3/lib/python3.8/site-packages (from importlib-metadata>=4.6->jax>=0.3.18->lightweight-mmm==0.1.9) (3.8.0)\n",
      "Requirement already satisfied: google-auth<3,>=1.6.3 in /Users/williamyau/opt/anaconda3/lib/python3.8/site-packages (from tensorboard<2.14,>=2.13->tensorflow>=2.7.2->lightweight-mmm==0.1.9) (2.23.3)\n",
      "Requirement already satisfied: google-auth-oauthlib<1.1,>=0.5 in /Users/williamyau/opt/anaconda3/lib/python3.8/site-packages (from tensorboard<2.14,>=2.13->tensorflow>=2.7.2->lightweight-mmm==0.1.9) (1.0.0)\n",
      "Requirement already satisfied: markdown>=2.6.8 in /Users/williamyau/opt/anaconda3/lib/python3.8/site-packages (from tensorboard<2.14,>=2.13->tensorflow>=2.7.2->lightweight-mmm==0.1.9) (3.5.2)\n",
      "Requirement already satisfied: requests<3,>=2.21.0 in /Users/williamyau/opt/anaconda3/lib/python3.8/site-packages (from tensorboard<2.14,>=2.13->tensorflow>=2.7.2->lightweight-mmm==0.1.9) (2.28.1)\n",
      "Requirement already satisfied: tensorboard-data-server<0.8.0,>=0.7.0 in /Users/williamyau/opt/anaconda3/lib/python3.8/site-packages (from tensorboard<2.14,>=2.13->tensorflow>=2.7.2->lightweight-mmm==0.1.9) (0.7.2)\n",
      "Requirement already satisfied: werkzeug>=1.0.1 in /Users/williamyau/opt/anaconda3/lib/python3.8/site-packages (from tensorboard<2.14,>=2.13->tensorflow>=2.7.2->lightweight-mmm==0.1.9) (2.0.2)\n",
      "Requirement already satisfied: cachetools<6.0,>=2.0.0 in /Users/williamyau/opt/anaconda3/lib/python3.8/site-packages (from google-auth<3,>=1.6.3->tensorboard<2.14,>=2.13->tensorflow>=2.7.2->lightweight-mmm==0.1.9) (5.3.0)\n",
      "Requirement already satisfied: pyasn1-modules>=0.2.1 in /Users/williamyau/opt/anaconda3/lib/python3.8/site-packages (from google-auth<3,>=1.6.3->tensorboard<2.14,>=2.13->tensorflow>=2.7.2->lightweight-mmm==0.1.9) (0.2.8)\n",
      "Requirement already satisfied: rsa<5,>=3.1.4 in /Users/williamyau/opt/anaconda3/lib/python3.8/site-packages (from google-auth<3,>=1.6.3->tensorboard<2.14,>=2.13->tensorflow>=2.7.2->lightweight-mmm==0.1.9) (4.9)\n",
      "Requirement already satisfied: requests-oauthlib>=0.7.0 in /Users/williamyau/opt/anaconda3/lib/python3.8/site-packages (from google-auth-oauthlib<1.1,>=0.5->tensorboard<2.14,>=2.13->tensorflow>=2.7.2->lightweight-mmm==0.1.9) (1.3.1)\n",
      "Requirement already satisfied: charset-normalizer<3,>=2 in /Users/williamyau/opt/anaconda3/lib/python3.8/site-packages (from requests<3,>=2.21.0->tensorboard<2.14,>=2.13->tensorflow>=2.7.2->lightweight-mmm==0.1.9) (2.0.4)\n",
      "Requirement already satisfied: idna<4,>=2.5 in /Users/williamyau/opt/anaconda3/lib/python3.8/site-packages (from requests<3,>=2.21.0->tensorboard<2.14,>=2.13->tensorflow>=2.7.2->lightweight-mmm==0.1.9) (2.10)\n",
      "Requirement already satisfied: urllib3<1.27,>=1.21.1 in /Users/williamyau/opt/anaconda3/lib/python3.8/site-packages (from requests<3,>=2.21.0->tensorboard<2.14,>=2.13->tensorflow>=2.7.2->lightweight-mmm==0.1.9) (1.26.12)\n",
      "Requirement already satisfied: certifi>=2017.4.17 in /Users/williamyau/opt/anaconda3/lib/python3.8/site-packages (from requests<3,>=2.21.0->tensorboard<2.14,>=2.13->tensorflow>=2.7.2->lightweight-mmm==0.1.9) (2022.9.24)\n",
      "Requirement already satisfied: pyasn1<0.5.0,>=0.4.6 in /Users/williamyau/opt/anaconda3/lib/python3.8/site-packages (from pyasn1-modules>=0.2.1->google-auth<3,>=1.6.3->tensorboard<2.14,>=2.13->tensorflow>=2.7.2->lightweight-mmm==0.1.9) (0.4.8)\n",
      "Requirement already satisfied: oauthlib>=3.0.0 in /Users/williamyau/opt/anaconda3/lib/python3.8/site-packages (from requests-oauthlib>=0.7.0->google-auth-oauthlib<1.1,>=0.5->tensorboard<2.14,>=2.13->tensorflow>=2.7.2->lightweight-mmm==0.1.9) (3.2.2)\n",
      "Using cached matplotlib-3.6.1-cp38-cp38-macosx_10_12_x86_64.whl (7.3 MB)\n",
      "Downloading seaborn-0.11.1-py3-none-any.whl (285 kB)\n",
      "\u001b[2K   \u001b[90m━━━━━━━━━━━━━━━━━━━━━━━━━━━━━━━━━━━━━━━━\u001b[0m \u001b[32m285.0/285.0 kB\u001b[0m \u001b[31m5.1 MB/s\u001b[0m eta \u001b[36m0:00:00\u001b[0ma \u001b[36m0:00:01\u001b[0m\n",
      "\u001b[?25h\u001b[33mWARNING: Ignoring invalid distribution -s50 (/Users/williamyau/opt/anaconda3/lib/python3.8/site-packages)\u001b[0m\u001b[33m\n",
      "\u001b[0mInstalling collected packages: matplotlib, seaborn\n",
      "  Attempting uninstall: matplotlib\n",
      "    Found existing installation: matplotlib 3.7.5\n",
      "    Uninstalling matplotlib-3.7.5:\n",
      "      Successfully uninstalled matplotlib-3.7.5\n",
      "  Attempting uninstall: seaborn\n",
      "    Found existing installation: seaborn 0.13.2\n",
      "    Uninstalling seaborn-0.13.2:\n",
      "      Successfully uninstalled seaborn-0.13.2\n",
      "\u001b[31mERROR: pip's dependency resolver does not currently take into account all the packages that are installed. This behaviour is the source of the following dependency conflicts.\n",
      "causalpy 0.2.2 requires seaborn>=0.11.2, but you have seaborn 0.11.1 which is incompatible.\n",
      "dtale 1.60.1 requires packaging<=21.0; python_version >= \"3.0\", but you have packaging 21.3 which is incompatible.\n",
      "dtale 1.60.1 requires scikit-learn==0.24.2; python_version > \"3.0\", but you have scikit-learn 1.2.2 which is incompatible.\n",
      "pymc-marketing 0.1.1 requires seaborn>=0.12.2, but you have seaborn 0.11.1 which is incompatible.\u001b[0m\u001b[31m\n",
      "\u001b[0mSuccessfully installed matplotlib-3.6.1 seaborn-0.11.1\n",
      "\u001b[33mWARNING: There was an error checking the latest version of pip.\u001b[0m\u001b[33m\n",
      "\u001b[0m"
     ]
    }
   ],
   "source": [
    "# First would be to install lightweight_mmm\n",
    "# If you face the error that requests to restart runtime, Click the restart runtime button and re-install it.\n",
    "!pip install --upgrade git+https://github.com/google/lightweight_mmm.git"
   ]
  },
  {
   "cell_type": "code",
   "execution_count": 2,
   "metadata": {
    "id": "afF7ZlEz37eC"
   },
   "outputs": [
    {
     "ename": "RuntimeError",
     "evalue": "This version of jaxlib was built using AVX instructions, which your CPU and/or operating system do not support. You may be able work around this issue by building jaxlib from source.",
     "output_type": "error",
     "traceback": [
      "\u001b[0;31m---------------------------------------------------------------------------\u001b[0m",
      "\u001b[0;31mRuntimeError\u001b[0m                              Traceback (most recent call last)",
      "\u001b[0;32m/var/folders/zy/0yc78h6x5xq7w_xzp3jlfvzr0000gn/T/ipykernel_56685/328040680.py\u001b[0m in \u001b[0;36m<module>\u001b[0;34m\u001b[0m\n\u001b[1;32m      1\u001b[0m \u001b[0;31m# Import jax.numpy and any other library we might need.\u001b[0m\u001b[0;34m\u001b[0m\u001b[0;34m\u001b[0m\u001b[0;34m\u001b[0m\u001b[0m\n\u001b[0;32m----> 2\u001b[0;31m \u001b[0;32mimport\u001b[0m \u001b[0mjax\u001b[0m\u001b[0;34m.\u001b[0m\u001b[0mnumpy\u001b[0m \u001b[0;32mas\u001b[0m \u001b[0mjnp\u001b[0m\u001b[0;34m\u001b[0m\u001b[0;34m\u001b[0m\u001b[0m\n\u001b[0m\u001b[1;32m      3\u001b[0m \u001b[0;32mimport\u001b[0m \u001b[0mnumpyro\u001b[0m\u001b[0;34m\u001b[0m\u001b[0;34m\u001b[0m\u001b[0m\n",
      "\u001b[0;32m~/opt/anaconda3/lib/python3.8/site-packages/jax/__init__.py\u001b[0m in \u001b[0;36m<module>\u001b[0;34m\u001b[0m\n\u001b[1;32m     33\u001b[0m \u001b[0;31m# We want the exported object to be the class, so we first import the module\u001b[0m\u001b[0;34m\u001b[0m\u001b[0;34m\u001b[0m\u001b[0;34m\u001b[0m\u001b[0m\n\u001b[1;32m     34\u001b[0m \u001b[0;31m# to make sure a later import doesn't overwrite the class.\u001b[0m\u001b[0;34m\u001b[0m\u001b[0;34m\u001b[0m\u001b[0;34m\u001b[0m\u001b[0m\n\u001b[0;32m---> 35\u001b[0;31m \u001b[0;32mfrom\u001b[0m \u001b[0mjax\u001b[0m \u001b[0;32mimport\u001b[0m \u001b[0mconfig\u001b[0m \u001b[0;32mas\u001b[0m \u001b[0m_config_module\u001b[0m\u001b[0;34m\u001b[0m\u001b[0;34m\u001b[0m\u001b[0m\n\u001b[0m\u001b[1;32m     36\u001b[0m \u001b[0;32mdel\u001b[0m \u001b[0m_config_module\u001b[0m\u001b[0;34m\u001b[0m\u001b[0;34m\u001b[0m\u001b[0m\n\u001b[1;32m     37\u001b[0m \u001b[0;34m\u001b[0m\u001b[0m\n",
      "\u001b[0;32m~/opt/anaconda3/lib/python3.8/site-packages/jax/config.py\u001b[0m in \u001b[0;36m<module>\u001b[0;34m\u001b[0m\n\u001b[1;32m     15\u001b[0m \u001b[0;31m# TODO(phawkins): fix users of this alias and delete this file.\u001b[0m\u001b[0;34m\u001b[0m\u001b[0;34m\u001b[0m\u001b[0;34m\u001b[0m\u001b[0m\n\u001b[1;32m     16\u001b[0m \u001b[0;34m\u001b[0m\u001b[0m\n\u001b[0;32m---> 17\u001b[0;31m \u001b[0;32mfrom\u001b[0m \u001b[0mjax\u001b[0m\u001b[0;34m.\u001b[0m\u001b[0m_src\u001b[0m\u001b[0;34m.\u001b[0m\u001b[0mconfig\u001b[0m \u001b[0;32mimport\u001b[0m \u001b[0mconfig\u001b[0m  \u001b[0;31m# noqa: F401\u001b[0m\u001b[0;34m\u001b[0m\u001b[0;34m\u001b[0m\u001b[0m\n\u001b[0m",
      "\u001b[0;32m~/opt/anaconda3/lib/python3.8/site-packages/jax/_src/config.py\u001b[0m in \u001b[0;36m<module>\u001b[0;34m\u001b[0m\n\u001b[1;32m     22\u001b[0m \u001b[0;32mfrom\u001b[0m \u001b[0mtyping\u001b[0m \u001b[0;32mimport\u001b[0m \u001b[0mAny\u001b[0m\u001b[0;34m,\u001b[0m \u001b[0mList\u001b[0m\u001b[0;34m,\u001b[0m \u001b[0mCallable\u001b[0m\u001b[0;34m,\u001b[0m \u001b[0mHashable\u001b[0m\u001b[0;34m,\u001b[0m \u001b[0mNamedTuple\u001b[0m\u001b[0;34m,\u001b[0m \u001b[0mIterator\u001b[0m\u001b[0;34m,\u001b[0m \u001b[0mOptional\u001b[0m\u001b[0;34m\u001b[0m\u001b[0;34m\u001b[0m\u001b[0m\n\u001b[1;32m     23\u001b[0m \u001b[0;34m\u001b[0m\u001b[0m\n\u001b[0;32m---> 24\u001b[0;31m \u001b[0;32mfrom\u001b[0m \u001b[0mjax\u001b[0m\u001b[0;34m.\u001b[0m\u001b[0m_src\u001b[0m \u001b[0;32mimport\u001b[0m \u001b[0mlib\u001b[0m\u001b[0;34m\u001b[0m\u001b[0;34m\u001b[0m\u001b[0m\n\u001b[0m\u001b[1;32m     25\u001b[0m \u001b[0;32mfrom\u001b[0m \u001b[0mjax\u001b[0m\u001b[0;34m.\u001b[0m\u001b[0m_src\u001b[0m\u001b[0;34m.\u001b[0m\u001b[0mlib\u001b[0m \u001b[0;32mimport\u001b[0m \u001b[0mjax_jit\u001b[0m\u001b[0;34m\u001b[0m\u001b[0;34m\u001b[0m\u001b[0m\n\u001b[1;32m     26\u001b[0m \u001b[0;32mfrom\u001b[0m \u001b[0mjax\u001b[0m\u001b[0;34m.\u001b[0m\u001b[0m_src\u001b[0m\u001b[0;34m.\u001b[0m\u001b[0mlib\u001b[0m \u001b[0;32mimport\u001b[0m \u001b[0mtransfer_guard_lib\u001b[0m\u001b[0;34m\u001b[0m\u001b[0;34m\u001b[0m\u001b[0m\n",
      "\u001b[0;32m~/opt/anaconda3/lib/python3.8/site-packages/jax/_src/lib/__init__.py\u001b[0m in \u001b[0;36m<module>\u001b[0;34m\u001b[0m\n\u001b[1;32m     82\u001b[0m \u001b[0;31m# uses instructions that are present on this machine.\u001b[0m\u001b[0;34m\u001b[0m\u001b[0;34m\u001b[0m\u001b[0;34m\u001b[0m\u001b[0m\n\u001b[1;32m     83\u001b[0m \u001b[0;32mimport\u001b[0m \u001b[0mjaxlib\u001b[0m\u001b[0;34m.\u001b[0m\u001b[0mcpu_feature_guard\u001b[0m \u001b[0;32mas\u001b[0m \u001b[0mcpu_feature_guard\u001b[0m\u001b[0;34m\u001b[0m\u001b[0;34m\u001b[0m\u001b[0m\n\u001b[0;32m---> 84\u001b[0;31m \u001b[0mcpu_feature_guard\u001b[0m\u001b[0;34m.\u001b[0m\u001b[0mcheck_cpu_features\u001b[0m\u001b[0;34m(\u001b[0m\u001b[0;34m)\u001b[0m\u001b[0;34m\u001b[0m\u001b[0;34m\u001b[0m\u001b[0m\n\u001b[0m\u001b[1;32m     85\u001b[0m \u001b[0;34m\u001b[0m\u001b[0m\n\u001b[1;32m     86\u001b[0m \u001b[0;31m# TODO(phawkins): remove after minimium jaxlib version is 0.4.9 or newer.\u001b[0m\u001b[0;34m\u001b[0m\u001b[0;34m\u001b[0m\u001b[0;34m\u001b[0m\u001b[0m\n",
      "\u001b[0;31mRuntimeError\u001b[0m: This version of jaxlib was built using AVX instructions, which your CPU and/or operating system do not support. You may be able work around this issue by building jaxlib from source."
     ]
    }
   ],
   "source": [
    "# Import jax.numpy and any other library we might need.\n",
    "import jax.numpy as jnp\n",
    "import numpyro"
   ]
  },
  {
   "cell_type": "code",
   "execution_count": null,
   "metadata": {
    "id": "Ltk-rB9y-_fh"
   },
   "outputs": [],
   "source": [
    "# Import the relevant modules of the library\n",
    "from lightweight_mmm import lightweight_mmm\n",
    "from lightweight_mmm import optimize_media\n",
    "from lightweight_mmm import plot\n",
    "from lightweight_mmm import preprocessing\n",
    "from lightweight_mmm import utils"
   ]
  },
  {
   "cell_type": "markdown",
   "metadata": {
    "id": "lGa5iPF4zdOo"
   },
   "source": [
    "## Organising the data for modelling"
   ]
  },
  {
   "cell_type": "code",
   "execution_count": null,
   "metadata": {
    "colab": {
     "base_uri": "https://localhost:8080/"
    },
    "executionInfo": {
     "elapsed": 3,
     "status": "ok",
     "timestamp": 1717227126831,
     "user": {
      "displayName": "William Yau",
      "userId": "03133457837099415069"
     },
     "user_tz": -60
    },
    "id": "Brr-FRA_W6we",
    "outputId": "e7ef01e8-0f62-4c7b-e58b-8f4e42fd8bf1"
   },
   "outputs": [],
   "source": [
    "import pandas as pd\n",
    "\n",
    "# I am not sure whether this data set is real, dummy, or simulated data, but for me, it looks more realistic than any other data I found on the internet.\n",
    "df = pd.read_csv(\"https://raw.githubusercontent.com/sibylhe/mmm_stan/main/data.csv\")\n",
    "\n",
    "# 1. media variables\n",
    "# media spending (Simplified media channel for demo)\n",
    "mdsp_cols=[col for col in df.columns if 'mdsp_' in col and col !='mdsp_viddig' and col != 'mdsp_auddig' and col != 'mdsp_sem']\n",
    "\n",
    "# 2. control variables\n",
    "# holiday variables\n",
    "hldy_cols = [col for col in df.columns if 'hldy_' in col]\n",
    "# seasonality variables\n",
    "seas_cols = [col for col in df.columns if 'seas_' in col]\n",
    "\n",
    "control_vars =  hldy_cols + seas_cols\n",
    "\n",
    "# 3. sales variables\n",
    "sales_cols =['sales']\n",
    "\n",
    "df_main = df[['wk_strt_dt']+sales_cols+mdsp_cols+control_vars]\n",
    "df_main = df_main.rename(columns={'mdsp_dm': 'Direct Mail', 'mdsp_inst': 'Insert', 'mdsp_nsp': 'Newspaper', 'mdsp_audtr': 'Radio', 'mdsp_vidtr': 'TV', 'mdsp_so': 'Social Media', 'mdsp_on': 'Online Display'})\n",
    "mdsp_cols = [\"Direct Mail\",\"Insert\", \"Newspaper\", \"Radio\", \"TV\", \"Social Media\", \"Online Display\"]\n",
    "# df.to_csv(\"mmm_input.csv\")"
   ]
  },
  {
   "cell_type": "code",
   "execution_count": null,
   "metadata": {
    "colab": {
     "base_uri": "https://localhost:8080/",
     "height": 273
    },
    "executionInfo": {
     "elapsed": 9,
     "status": "ok",
     "timestamp": 1714466102138,
     "user": {
      "displayName": "William Yau",
      "userId": "03133457837099415069"
     },
     "user_tz": -60
    },
    "id": "sQLXnjB-R3k_",
    "outputId": "b957a3c2-2bb9-4381-8e6e-9afe683ab52b"
   },
   "outputs": [],
   "source": [
    "df_main.head()"
   ]
  },
  {
   "cell_type": "code",
   "execution_count": null,
   "metadata": {
    "id": "AF0gS72Hhwml"
   },
   "outputs": [],
   "source": [
    "SEED = 105"
   ]
  },
  {
   "cell_type": "code",
   "execution_count": null,
   "metadata": {
    "id": "R6oDCH5w4M_y"
   },
   "outputs": [],
   "source": [
    "\n",
    "data_size = len(df_main)\n",
    "\n",
    "n_media_channels = len(mdsp_cols)\n",
    "n_extra_features = len(control_vars)\n",
    "media_data = df_main[mdsp_cols].to_numpy()\n",
    "extra_features = df_main[control_vars].to_numpy()\n",
    "target = df_main['sales'].to_numpy()\n",
    "costs = df_main[mdsp_cols].sum().to_numpy()"
   ]
  },
  {
   "cell_type": "markdown",
   "metadata": {
    "id": "58yFB05A4e0j"
   },
   "source": [
    "We can then split the dataset into train and test. Lets leave only the last 24 weeks for testing in this case."
   ]
  },
  {
   "cell_type": "code",
   "execution_count": null,
   "metadata": {
    "id": "xMMKo3fK4UN4"
   },
   "outputs": [],
   "source": [
    "# Split and scale data.\n",
    "test_data_period_size = 24\n",
    "split_point = data_size - test_data_period_size\n",
    "# Media data\n",
    "media_data_train = media_data[:split_point, ...]\n",
    "media_data_test = media_data[split_point:, ...]\n",
    "# Extra features\n",
    "extra_features_train = extra_features[:split_point, ...]\n",
    "extra_features_test = extra_features[split_point:, ...]\n",
    "# Target\n",
    "target_train = target[:split_point]"
   ]
  },
  {
   "cell_type": "markdown",
   "metadata": {
    "id": "A0pZBcF14lPV"
   },
   "source": [
    "Scaling is essential for many modelling problems and this one is no exception.\n",
    "\n",
    "We provide the class `CustomScaler` which behaves accordingly with `sklearn`\n",
    "scalers.\n",
    "\n",
    "In most cases you will need 3 or 4 scalers. One scaler for the media data, one\n",
    "for the target and one for costs. Optionally if you are adding extra features\n",
    "those might need an extra scaler. **It is very important that you save and\n",
    "\"carry with you\" those scalers throughout your MMM journey as LighweightMMM will\n",
    "allow you to re-insert these scalers at different points to ensure everything is\n",
    "always in the correct scale and results. If some results don't make sense, it\n",
    "might be a scaling problem.**"
   ]
  },
  {
   "cell_type": "markdown",
   "metadata": {
    "id": "tGAjohQH4qCO"
   },
   "source": [
    "A few more details on CustomScaler usage:\n",
    "\n",
    "This scaler can be used in two fashions for both the multiplication and division\n",
    "operation.\n",
    "- By specifying a value to use for the scaling operation.\n",
    "- By specifying an operation used at column level to calculate the value for the\n",
    "actual scaling operation.\n",
    "\n",
    "Eg. if one wants to scale the dataset by multiply by 100 you can directly pass\n",
    "multiply_by=100. Value can also be an array of an appropriate shape by which\n",
    "to divide or multiply the data. But if you want to multiply by the mean value of each\n",
    "column, then you can pass multiply_operation=jnp.mean (or any other operation\n",
    "desired).\n",
    "\n",
    "Operation parameters have the upper hand in the cases where both values and\n",
    "operations are passed, values will be ignored in this case.\n",
    "\n",
    "Consult the full class documentation if you still need to know more.\n",
    "\n",
    "In this demo we divide the data on media, extra features and the target by their mean to ensure that the result has a mean of 1. This allows the model to be agnostic to the scale of the inputs (e.g. a user can use either the number of sales or the value of sales). The costs are not used in the model directly, they are only used to inform the prior distributions on the media variables (see the [model documentation](https://lightweight-mmm.readthedocs.io/en/latest/models.html) here). These costs have been scaled down by multiplying by 0.15 to reflect typical ranges in MMMs."
   ]
  },
  {
   "cell_type": "code",
   "execution_count": null,
   "metadata": {
    "id": "B-19ZTfx4uh5"
   },
   "outputs": [],
   "source": [
    "media_scaler = preprocessing.CustomScaler(divide_operation=jnp.mean)\n",
    "extra_features_scaler = preprocessing.CustomScaler(divide_operation=jnp.mean)\n",
    "target_scaler = preprocessing.CustomScaler(divide_operation=jnp.mean)\n",
    "cost_scaler = preprocessing.CustomScaler(divide_operation=jnp.mean, multiply_by=0.15)\n",
    "\n",
    "media_data_train = media_scaler.fit_transform(media_data_train)\n",
    "extra_features_train = extra_features_scaler.fit_transform(extra_features_train)\n",
    "target_train = target_scaler.fit_transform(target_train)\n",
    "costs = cost_scaler.fit_transform(costs)"
   ]
  },
  {
   "cell_type": "markdown",
   "metadata": {
    "id": "eiJBiIjVJ4h9"
   },
   "source": [
    "### Training the model"
   ]
  },
  {
   "cell_type": "markdown",
   "metadata": {
    "id": "RNiMpZSjJ8KF"
   },
   "source": [
    "The currently available models are the following:\n",
    "- hill_adstock\n",
    "- adstock\n",
    "- carryover"
   ]
  },
  {
   "cell_type": "code",
   "execution_count": null,
   "metadata": {
    "id": "nTmDycd3J-Iw"
   },
   "outputs": [],
   "source": [
    "mmm = lightweight_mmm.LightweightMMM(model_name=\"hill_adstock\")"
   ]
  },
  {
   "cell_type": "markdown",
   "metadata": {
    "id": "S2XCraqXKA7B"
   },
   "source": [
    "Training the model will require the following mandatory parameters:\n",
    "- media\n",
    "- total_costs (one value per channel)\n",
    "- target\n",
    "\n",
    "We can optionally also pass the following:\n",
    "- extra_features: Other variables to add to the model.\n",
    "- degrees_seasonality: Number of degrees to use for seasonality. Default is 3.\n",
    "- seasonality_frequency: Frequency of the time period used. Default is 52 as in 52 weeks per year.\n",
    "- media_names: Names of the media channels passed.\n",
    "- number_warmup: Number of warm up samples. Default is 1000.\n",
    "- number_samples: Number of samples during sampling. Default is 1000.\n",
    "- number_chains: Number of chains to sample. Default is 2."
   ]
  },
  {
   "cell_type": "code",
   "execution_count": null,
   "metadata": {
    "id": "aza-wH0N2d52"
   },
   "outputs": [],
   "source": [
    "number_warmup=1000\n",
    "number_samples=1000"
   ]
  },
  {
   "cell_type": "code",
   "execution_count": null,
   "metadata": {
    "colab": {
     "base_uri": "https://localhost:8080/"
    },
    "executionInfo": {
     "elapsed": 407878,
     "status": "ok",
     "timestamp": 1714466513235,
     "user": {
      "displayName": "William Yau",
      "userId": "03133457837099415069"
     },
     "user_tz": -60
    },
    "id": "FtVwGQITKDQp",
    "outputId": "0995ef10-6c71-4f46-b680-af22cd8b37fe"
   },
   "outputs": [],
   "source": [
    "# For replicability in terms of random number generation in sampling\n",
    "# reuse the same seed for different trainings.\n",
    "mmm.fit(\n",
    "    media=media_data_train,\n",
    "    media_prior=costs,\n",
    "    target=target_train,\n",
    "    extra_features=extra_features_train,\n",
    "    number_warmup=number_warmup,\n",
    "    number_samples=number_samples,\n",
    "    media_names = mdsp_cols,\n",
    "    seed=SEED)"
   ]
  },
  {
   "cell_type": "markdown",
   "metadata": {
    "id": "Qwwi7E61KKdL"
   },
   "source": [
    "\n",
    "You can check the summary of your trace by printing a summary:"
   ]
  },
  {
   "cell_type": "code",
   "execution_count": null,
   "metadata": {
    "colab": {
     "base_uri": "https://localhost:8080/"
    },
    "executionInfo": {
     "elapsed": 345,
     "status": "ok",
     "timestamp": 1714466513561,
     "user": {
      "displayName": "William Yau",
      "userId": "03133457837099415069"
     },
     "user_tz": -60
    },
    "id": "sJUiM-1vKMt_",
    "outputId": "cc606f32-a02d-4d09-ac68-1863e564be18"
   },
   "outputs": [],
   "source": [
    "mmm.print_summary()"
   ]
  },
  {
   "cell_type": "markdown",
   "metadata": {
    "id": "7npbmDKfKNMX"
   },
   "source": [
    "We can visualise the posterior distributions of the media effects:"
   ]
  },
  {
   "cell_type": "code",
   "execution_count": null,
   "metadata": {
    "colab": {
     "base_uri": "https://localhost:8080/",
     "height": 1000
    },
    "executionInfo": {
     "elapsed": 4581,
     "status": "ok",
     "timestamp": 1714466518139,
     "user": {
      "displayName": "William Yau",
      "userId": "03133457837099415069"
     },
     "user_tz": -60
    },
    "id": "BpqYqFNqKNTc",
    "outputId": "18e3c697-7ab4-497e-ef3b-8a8cf8f05570"
   },
   "outputs": [],
   "source": [
    "plot.plot_media_channel_posteriors(media_mix_model=mmm, channel_names=mdsp_cols)"
   ]
  },
  {
   "cell_type": "code",
   "execution_count": null,
   "metadata": {
    "colab": {
     "base_uri": "https://localhost:8080/",
     "height": 478
    },
    "executionInfo": {
     "elapsed": 388,
     "status": "ok",
     "timestamp": 1714466518523,
     "user": {
      "displayName": "William Yau",
      "userId": "03133457837099415069"
     },
     "user_tz": -60
    },
    "id": "Puuy6cdyuttE",
    "outputId": "e48eeea5-4ab3-4320-bc24-061eac888bd1"
   },
   "outputs": [],
   "source": [
    "plot.create_media_baseline_contribution_df(media_mix_model=mmm)"
   ]
  },
  {
   "cell_type": "markdown",
   "metadata": {
    "id": "yKk2PTw2rizW"
   },
   "source": [
    "**[*optional*]**\n",
    "\n",
    " LightweightMMM also allows you to visualize the prior and posterior distributions for every model parameter at once. Note that we use a kernel density estimator to smooth these distributions for easier interpretability; you may need to adjust the bandwidth of the smoother depending on the shapes of your distributions.\n",
    "Also, this plot **can take several minutes to run**, especially if using geo-level models. Lowering the number_of_samples_for_prior or restricting to a subset of selected_features can speed up the runtime."
   ]
  },
  {
   "cell_type": "code",
   "execution_count": null,
   "metadata": {
    "id": "Kag1XX0hgo2G"
   },
   "outputs": [],
   "source": [
    "# plot.plot_prior_and_posterior(media_mix_model=mmm)"
   ]
  },
  {
   "cell_type": "markdown",
   "metadata": {
    "id": "AwgyS0W-KNbx"
   },
   "source": [
    "One can also check your model's fit to the training data."
   ]
  },
  {
   "cell_type": "code",
   "execution_count": null,
   "metadata": {
    "colab": {
     "base_uri": "https://localhost:8080/",
     "height": 522
    },
    "executionInfo": {
     "elapsed": 2837,
     "status": "ok",
     "timestamp": 1714466521353,
     "user": {
      "displayName": "William Yau",
      "userId": "03133457837099415069"
     },
     "user_tz": -60
    },
    "id": "tw-TF20IKNi5",
    "outputId": "66d5a7d4-8e80-494d-d760-0b54f3366077"
   },
   "outputs": [],
   "source": [
    "# Here is another example where we can pass the target scaler if you want the plot to be in the \"not scaled scale\"\n",
    "plot.plot_model_fit(mmm, target_scaler=target_scaler)"
   ]
  },
  {
   "cell_type": "markdown",
   "metadata": {
    "id": "4v50_s1sKNrN"
   },
   "source": [
    "If one wants to run predictions on unseen data they can rely on the `predict`\n",
    "method:"
   ]
  },
  {
   "cell_type": "code",
   "execution_count": null,
   "metadata": {
    "id": "yQuUUolAKN0W"
   },
   "outputs": [],
   "source": [
    "# We have to scale the test media data if we have not done so before.\n",
    "new_predictions = mmm.predict(media=media_scaler.transform(media_data_test),\n",
    "                              extra_features=extra_features_scaler.transform(extra_features_test),\n",
    "                              seed=SEED)"
   ]
  },
  {
   "cell_type": "code",
   "execution_count": null,
   "metadata": {
    "colab": {
     "base_uri": "https://localhost:8080/",
     "height": 452
    },
    "executionInfo": {
     "elapsed": 1601,
     "status": "ok",
     "timestamp": 1714466523588,
     "user": {
      "displayName": "William Yau",
      "userId": "03133457837099415069"
     },
     "user_tz": -60
    },
    "id": "e0a9JyiMKN8q",
    "outputId": "a894ee19-2f8e-48a1-e7e7-3ac7bafe8740"
   },
   "outputs": [],
   "source": [
    "plot.plot_out_of_sample_model_fit(out_of_sample_predictions=new_predictions,\n",
    "                                 out_of_sample_target=target_scaler.transform(target[split_point:]))"
   ]
  },
  {
   "cell_type": "markdown",
   "metadata": {
    "id": "MDMW2Pe-KOEm"
   },
   "source": [
    "### Media insights"
   ]
  },
  {
   "cell_type": "code",
   "execution_count": null,
   "metadata": {
    "id": "qQUnoKKQKONT"
   },
   "outputs": [],
   "source": [
    "media_contribution, roi_hat = mmm.get_posterior_metrics(target_scaler=target_scaler, cost_scaler=cost_scaler)\n",
    "# roi_values = pd.DataFrame(roi_hat)\n",
    "# roi_values.to_csv('roi_values.csv')\n",
    "# media_cont = pd.DataFrame(media_contribution)\n",
    "# media_cont.to_csv('media_cont.csv')"
   ]
  },
  {
   "cell_type": "markdown",
   "metadata": {
    "id": "0ARNXcQnAjjt"
   },
   "source": [
    "We can quickly visualise the estimated media & baseline contribution over time"
   ]
  },
  {
   "cell_type": "code",
   "execution_count": null,
   "metadata": {
    "colab": {
     "base_uri": "https://localhost:8080/",
     "height": 661
    },
    "executionInfo": {
     "elapsed": 2227,
     "status": "ok",
     "timestamp": 1714466525813,
     "user": {
      "displayName": "William Yau",
      "userId": "03133457837099415069"
     },
     "user_tz": -60
    },
    "id": "G7uogajxApbw",
    "outputId": "6b3db661-2fe3-4c7d-95a7-d89e45d4808a"
   },
   "outputs": [],
   "source": [
    "plot.plot_media_baseline_contribution_area_plot(media_mix_model=mmm,\n",
    "                                                target_scaler=target_scaler,\n",
    "                                                fig_size=(30,10),\n",
    "                                                channel_names = mdsp_cols\n",
    "                                                )\n"
   ]
  },
  {
   "cell_type": "markdown",
   "metadata": {
    "id": "szhjLnpHKOWc"
   },
   "source": [
    "We can quickly visualise the estimated media contributions with their respective\n",
    "credibility intervals"
   ]
  },
  {
   "cell_type": "code",
   "execution_count": null,
   "metadata": {
    "colab": {
     "base_uri": "https://localhost:8080/",
     "height": 558
    },
    "executionInfo": {
     "elapsed": 10,
     "status": "ok",
     "timestamp": 1714466525813,
     "user": {
      "displayName": "William Yau",
      "userId": "03133457837099415069"
     },
     "user_tz": -60
    },
    "id": "Hi3nJDE8KOfk",
    "outputId": "96329fe1-7d64-466c-880e-31491c8a7d00"
   },
   "outputs": [],
   "source": [
    "plot.plot_bars_media_metrics(metric=media_contribution, metric_name=\"Media Contribution Percentage\", channel_names=mdsp_cols)"
   ]
  },
  {
   "cell_type": "code",
   "execution_count": null,
   "metadata": {
    "colab": {
     "base_uri": "https://localhost:8080/",
     "height": 558
    },
    "executionInfo": {
     "elapsed": 431,
     "status": "ok",
     "timestamp": 1714466526237,
     "user": {
      "displayName": "William Yau",
      "userId": "03133457837099415069"
     },
     "user_tz": -60
    },
    "id": "oC82BdUJKOoT",
    "outputId": "5ba6074f-e4e6-4bfb-f21f-9398d3e5f4ac"
   },
   "outputs": [],
   "source": [
    "plot.plot_bars_media_metrics(metric=roi_hat, metric_name=\"ROI hat\", channel_names=mdsp_cols, interval_mid_range=.9)"
   ]
  },
  {
   "cell_type": "markdown",
   "metadata": {
    "id": "TR_m4DvmKOx0"
   },
   "source": [
    "Another vital question we can solve with MMMs is how each media channel behaves\n",
    "individually as we invest more in it.\n",
    "\n",
    "For that we can plot the curve response of all media channels with the following\n",
    "function:"
   ]
  },
  {
   "cell_type": "code",
   "execution_count": null,
   "metadata": {
    "colab": {
     "base_uri": "https://localhost:8080/",
     "height": 1000
    },
    "executionInfo": {
     "elapsed": 25223,
     "status": "ok",
     "timestamp": 1714466551456,
     "user": {
      "displayName": "William Yau",
      "userId": "03133457837099415069"
     },
     "user_tz": -60
    },
    "id": "w6DfZdyUKO6k",
    "outputId": "f01b3256-052f-41cf-f242-e51e518cf554"
   },
   "outputs": [],
   "source": [
    "plot.plot_response_curves(media_mix_model=mmm, target_scaler=target_scaler, seed=SEED)"
   ]
  },
  {
   "cell_type": "markdown",
   "metadata": {
    "id": "qNEQkwvZKPDR"
   },
   "source": [
    "### Optimization"
   ]
  },
  {
   "cell_type": "markdown",
   "metadata": {
    "id": "0IslzAcNKPLO"
   },
   "source": [
    "The optimization is meant to solve the budget allocation questions for you.\n",
    "First you need to provide for how long you want to optimize your budget (eg. 15\n",
    "weeks in this case)."
   ]
  },
  {
   "cell_type": "markdown",
   "metadata": {
    "id": "ULQZGNMlKPT6"
   },
   "source": [
    "The optimization values will be bounded by +- 20% of the max and min historic\n",
    "values used for training. Which means the optimization won't recommend to\n",
    "completely change your strategy but how to make some budget re-allocation.\n",
    "\n",
    "You can change that percentage with the following parameters: -\n",
    "bounds_lower_pct - bounds_upper_pct\n",
    "\n",
    "Which can hold 1 value for all channels or 1 value per channel."
   ]
  },
  {
   "cell_type": "markdown",
   "metadata": {
    "id": "xDw5WtooKPde"
   },
   "source": [
    "Prices are the average price you would expect for the media units of each\n",
    "channel. If your data is already a money unit (eg. $) your prices should be an\n",
    "array of 1s."
   ]
  },
  {
   "cell_type": "code",
   "execution_count": null,
   "metadata": {
    "id": "t3TaoXYjKPmr"
   },
   "outputs": [],
   "source": [
    "prices = jnp.ones(mmm.n_media_channels)"
   ]
  },
  {
   "cell_type": "markdown",
   "metadata": {
    "id": "yF6JjbqPKP2R"
   },
   "source": [
    "The budget is how much one would like to allocate throughtout the total of\n",
    "`n_time_periods`. Make sure this amount is inline with the historic spend or\n",
    "otherwise some conditions/bounds in the optimization might not be met."
   ]
  },
  {
   "cell_type": "code",
   "execution_count": null,
   "metadata": {
    "id": "ReGi5AGTL86q"
   },
   "outputs": [],
   "source": [
    "n_time_periods = 20\n",
    "budget = jnp.sum(jnp.dot(prices, media_data.mean(axis=0)))* n_time_periods"
   ]
  },
  {
   "cell_type": "code",
   "execution_count": null,
   "metadata": {
    "colab": {
     "base_uri": "https://localhost:8080/"
    },
    "executionInfo": {
     "elapsed": 350394,
     "status": "ok",
     "timestamp": 1714466901847,
     "user": {
      "displayName": "William Yau",
      "userId": "03133457837099415069"
     },
     "user_tz": -60
    },
    "id": "qtt9L4aPL-cs",
    "outputId": "80e5b8d3-300e-491a-ed17-375ef5490d18"
   },
   "outputs": [],
   "source": [
    "# Run optimization with the parameters of choice.\n",
    "solution, kpi_without_optim, previous_media_allocation = optimize_media.find_optimal_budgets(\n",
    "    n_time_periods=n_time_periods,\n",
    "    media_mix_model=mmm,\n",
    "    extra_features=extra_features_scaler.transform(extra_features_test)[:n_time_periods],\n",
    "    budget=budget,\n",
    "    prices=prices,\n",
    "    media_scaler=media_scaler,\n",
    "    target_scaler=target_scaler,\n",
    "    seed=SEED)"
   ]
  },
  {
   "cell_type": "markdown",
   "metadata": {
    "id": "R1vZcsNYjNyA"
   },
   "source": [
    "If your media data is not in money unit (eg. impressions, clicks, GRPs, etc.), you would need to store the cost per values (eg. CPC) in the prices array and multiply it by solution.x to get the recommended budget allocation.\n",
    "\n"
   ]
  },
  {
   "cell_type": "code",
   "execution_count": null,
   "metadata": {
    "colab": {
     "base_uri": "https://localhost:8080/"
    },
    "executionInfo": {
     "elapsed": 26,
     "status": "ok",
     "timestamp": 1714466901847,
     "user": {
      "displayName": "William Yau",
      "userId": "03133457837099415069"
     },
     "user_tz": -60
    },
    "id": "C2FIJu82MAk9",
    "outputId": "19afefd4-e64f-4e71-aa82-8a4b767c3db2"
   },
   "outputs": [],
   "source": [
    "# Obtain the optimal weekly allocation.\n",
    "optimal_budget_allocation = prices * solution.x\n",
    "optimal_budget_allocation"
   ]
  },
  {
   "cell_type": "code",
   "execution_count": null,
   "metadata": {
    "colab": {
     "base_uri": "https://localhost:8080/"
    },
    "executionInfo": {
     "elapsed": 6,
     "status": "ok",
     "timestamp": 1714466901847,
     "user": {
      "displayName": "William Yau",
      "userId": "03133457837099415069"
     },
     "user_tz": -60
    },
    "id": "QXG3bDQ5Psvr",
    "outputId": "e9f9227b-076d-4ef6-b5a5-9ab7723b4f09"
   },
   "outputs": [],
   "source": [
    "# similar renormalization to get previous budget allocation\n",
    "previous_budget_allocation = prices * previous_media_allocation\n",
    "previous_budget_allocation"
   ]
  },
  {
   "cell_type": "code",
   "execution_count": null,
   "metadata": {
    "colab": {
     "base_uri": "https://localhost:8080/"
    },
    "executionInfo": {
     "elapsed": 5,
     "status": "ok",
     "timestamp": 1714466901847,
     "user": {
      "displayName": "William Yau",
      "userId": "03133457837099415069"
     },
     "user_tz": -60
    },
    "id": "XS1rHOfaMCBt",
    "outputId": "e6efe966-2954-4713-e63a-c8553c938d43"
   },
   "outputs": [],
   "source": [
    "# Both these values should be very close in order to compare KPI\n",
    "budget, optimal_budget_allocation.sum()"
   ]
  },
  {
   "cell_type": "markdown",
   "metadata": {
    "id": "LvMc28XKMEt_"
   },
   "source": [
    "We can double check the budget constraint was met:"
   ]
  },
  {
   "cell_type": "code",
   "execution_count": null,
   "metadata": {
    "colab": {
     "base_uri": "https://localhost:8080/"
    },
    "executionInfo": {
     "elapsed": 4,
     "status": "ok",
     "timestamp": 1714466901847,
     "user": {
      "displayName": "William Yau",
      "userId": "03133457837099415069"
     },
     "user_tz": -60
    },
    "id": "ffZl2W-pMFrD",
    "outputId": "330ea40c-849a-4a97-b2d1-e834215d12d4"
   },
   "outputs": [],
   "source": [
    "# Both numbers should be almost equal\n",
    "budget, jnp.sum(solution.x * prices)"
   ]
  },
  {
   "cell_type": "markdown",
   "metadata": {
    "id": "aK21EDOyzDC3"
   },
   "source": [
    "## We can plot the following:\n",
    "1. Pre post optimization budget allocation comparison for each channel\n",
    "2. Pre post optimization predicted target variable comparison"
   ]
  },
  {
   "cell_type": "code",
   "execution_count": null,
   "metadata": {
    "colab": {
     "base_uri": "https://localhost:8080/",
     "height": 1000
    },
    "executionInfo": {
     "elapsed": 1297,
     "status": "ok",
     "timestamp": 1714466903141,
     "user": {
      "displayName": "William Yau",
      "userId": "03133457837099415069"
     },
     "user_tz": -60
    },
    "id": "0jRI8ynqzFip",
    "outputId": "517f2c53-9506-4767-96d1-dd5ab16366b5"
   },
   "outputs": [],
   "source": [
    "# Plot out pre post optimization budget allocation and predicted target variable comparison.\n",
    "plot.plot_pre_post_budget_allocation_comparison(media_mix_model=mmm,\n",
    "                                                kpi_with_optim=solution['fun'],\n",
    "                                                kpi_without_optim=kpi_without_optim,\n",
    "                                                optimal_buget_allocation=optimal_budget_allocation,\n",
    "                                                previous_budget_allocation=previous_budget_allocation,\n",
    "                                                figure_size=(10,10),\n",
    "                                                channel_names = mdsp_cols)"
   ]
  },
  {
   "cell_type": "markdown",
   "metadata": {
    "id": "o3UbFu9VSRq9"
   },
   "source": [
    "## Saving the model to disk"
   ]
  },
  {
   "cell_type": "code",
   "execution_count": null,
   "metadata": {
    "id": "aetzKyUOBhwm"
   },
   "outputs": [],
   "source": [
    "# We can use the utilities for saving models to disk.\n",
    "file_path = \"media_mix_model.pkl\"\n",
    "utils.save_model(media_mix_model=mmm, file_path=file_path)"
   ]
  },
  {
   "cell_type": "code",
   "execution_count": null,
   "metadata": {
    "colab": {
     "base_uri": "https://localhost:8080/"
    },
    "executionInfo": {
     "elapsed": 11,
     "status": "ok",
     "timestamp": 1714466903142,
     "user": {
      "displayName": "William Yau",
      "userId": "03133457837099415069"
     },
     "user_tz": -60
    },
    "id": "74Fx-1N4HQsJ",
    "outputId": "10fa274a-94bf-4a07-8009-a80423f65a16"
   },
   "outputs": [],
   "source": [
    "# Once saved one can load the models.\n",
    "loaded_mmm = utils.load_model(file_path=file_path)\n",
    "loaded_mmm.trace[\"coef_media\"].shape # Example of accessing any of the model values."
   ]
  },
  {
   "cell_type": "code",
   "execution_count": null,
   "metadata": {
    "id": "9-sQSJa4s3Es"
   },
   "outputs": [],
   "source": [
    "# import pickle\n",
    "\n",
    "# # Open the .pkl file in binary mode for reading\n",
    "# with open('media_mix_model.pkl', 'rb') as file:\n",
    "#     # Load the object from the file\n",
    "#     your_object = pickle.load(file)"
   ]
  }
 ],
 "metadata": {
  "colab": {
   "provenance": [
    {
     "file_id": "1peaTRIjPzqd6lRv4pyqGnmWlBynzTeY0",
     "timestamp": 1717598924793
    }
   ]
  },
  "kernelspec": {
   "display_name": "Python 3 (ipykernel)",
   "language": "python",
   "name": "python3"
  },
  "language_info": {
   "codemirror_mode": {
    "name": "ipython",
    "version": 3
   },
   "file_extension": ".py",
   "mimetype": "text/x-python",
   "name": "python",
   "nbconvert_exporter": "python",
   "pygments_lexer": "ipython3",
   "version": "3.8.13"
  }
 },
 "nbformat": 4,
 "nbformat_minor": 4
}
