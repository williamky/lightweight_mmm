{
 "cells": [
  {
   "cell_type": "code",
   "execution_count": 1,
   "metadata": {
    "colab": {
     "base_uri": "https://localhost:8080/",
     "height": 1000
    },
    "id": "EmkFKiQjZ7kC",
    "outputId": "aa3d6462-70cf-46dc-cb9e-666f9afdda3a",
    "tags": []
   },
   "outputs": [
    {
     "name": "stdout",
     "output_type": "stream",
     "text": [
      "\u001b[33mWARNING: Ignoring invalid distribution -s50 (/Users/williamyau/opt/anaconda3/lib/python3.8/site-packages)\u001b[0m\u001b[33m\n",
      "\u001b[0mCollecting git+https://github.com/google/lightweight_mmm.git\n",
      "  Cloning https://github.com/google/lightweight_mmm.git to /private/var/folders/zy/0yc78h6x5xq7w_xzp3jlfvzr0000gn/T/pip-req-build-0prkq5ca\n",
      "  Running command git clone --filter=blob:none --quiet https://github.com/google/lightweight_mmm.git /private/var/folders/zy/0yc78h6x5xq7w_xzp3jlfvzr0000gn/T/pip-req-build-0prkq5ca\n",
      "  Resolved https://github.com/google/lightweight_mmm.git to commit 4406aaa77bddc5b0d73d31c6cf4f2ace03f3ffda\n",
      "  Preparing metadata (setup.py) ... \u001b[?25ldone\n",
      "\u001b[?25hRequirement already satisfied: absl-py in /Users/williamyau/opt/anaconda3/lib/python3.8/site-packages (from lightweight-mmm==0.1.9) (2.1.0)\n",
      "Requirement already satisfied: arviz>=0.11.2 in /Users/williamyau/opt/anaconda3/lib/python3.8/site-packages (from lightweight-mmm==0.1.9) (0.15.1)\n",
      "Requirement already satisfied: immutabledict>=2.0.0 in /Users/williamyau/opt/anaconda3/lib/python3.8/site-packages (from lightweight-mmm==0.1.9) (4.1.0)\n",
      "Requirement already satisfied: jax>=0.3.18 in /Users/williamyau/opt/anaconda3/lib/python3.8/site-packages (from lightweight-mmm==0.1.9) (0.4.13)\n",
      "Requirement already satisfied: jaxlib>=0.3.18 in /Users/williamyau/opt/anaconda3/lib/python3.8/site-packages (from lightweight-mmm==0.1.9) (0.4.13)\n",
      "Requirement already satisfied: matplotlib==3.6.1 in /Users/williamyau/opt/anaconda3/lib/python3.8/site-packages (from lightweight-mmm==0.1.9) (3.6.1)\n",
      "Requirement already satisfied: numpy>=1.23 in /Users/williamyau/opt/anaconda3/lib/python3.8/site-packages (from lightweight-mmm==0.1.9) (1.23.5)\n",
      "Requirement already satisfied: numpyro>=0.9.2 in /Users/williamyau/opt/anaconda3/lib/python3.8/site-packages (from lightweight-mmm==0.1.9) (0.12.1)\n",
      "Requirement already satisfied: pandas>=1.1.5 in /Users/williamyau/opt/anaconda3/lib/python3.8/site-packages (from lightweight-mmm==0.1.9) (2.0.3)\n",
      "Requirement already satisfied: scipy in /Users/williamyau/opt/anaconda3/lib/python3.8/site-packages (from lightweight-mmm==0.1.9) (1.10.1)\n",
      "Requirement already satisfied: seaborn==0.11.1 in /Users/williamyau/opt/anaconda3/lib/python3.8/site-packages (from lightweight-mmm==0.1.9) (0.11.1)\n",
      "Requirement already satisfied: scikit-learn in /Users/williamyau/opt/anaconda3/lib/python3.8/site-packages (from lightweight-mmm==0.1.9) (1.2.2)\n",
      "Requirement already satisfied: statsmodels>=0.13.0 in /Users/williamyau/opt/anaconda3/lib/python3.8/site-packages (from lightweight-mmm==0.1.9) (0.14.0)\n",
      "Requirement already satisfied: tensorflow>=2.7.2 in /Users/williamyau/opt/anaconda3/lib/python3.8/site-packages (from lightweight-mmm==0.1.9) (2.13.1)\n",
      "Requirement already satisfied: contourpy>=1.0.1 in /Users/williamyau/opt/anaconda3/lib/python3.8/site-packages (from matplotlib==3.6.1->lightweight-mmm==0.1.9) (1.1.1)\n",
      "Requirement already satisfied: cycler>=0.10 in /Users/williamyau/opt/anaconda3/lib/python3.8/site-packages (from matplotlib==3.6.1->lightweight-mmm==0.1.9) (0.10.0)\n",
      "Requirement already satisfied: fonttools>=4.22.0 in /Users/williamyau/opt/anaconda3/lib/python3.8/site-packages (from matplotlib==3.6.1->lightweight-mmm==0.1.9) (4.49.0)\n",
      "Requirement already satisfied: kiwisolver>=1.0.1 in /Users/williamyau/opt/anaconda3/lib/python3.8/site-packages (from matplotlib==3.6.1->lightweight-mmm==0.1.9) (1.3.1)\n",
      "Requirement already satisfied: packaging>=20.0 in /Users/williamyau/opt/anaconda3/lib/python3.8/site-packages (from matplotlib==3.6.1->lightweight-mmm==0.1.9) (21.3)\n",
      "Requirement already satisfied: pillow>=6.2.0 in /Users/williamyau/opt/anaconda3/lib/python3.8/site-packages (from matplotlib==3.6.1->lightweight-mmm==0.1.9) (9.2.0)\n",
      "Requirement already satisfied: pyparsing>=2.2.1 in /Users/williamyau/opt/anaconda3/lib/python3.8/site-packages (from matplotlib==3.6.1->lightweight-mmm==0.1.9) (3.0.9)\n",
      "Requirement already satisfied: python-dateutil>=2.7 in /Users/williamyau/opt/anaconda3/lib/python3.8/site-packages (from matplotlib==3.6.1->lightweight-mmm==0.1.9) (2.8.2)\n",
      "Requirement already satisfied: setuptools>=60.0.0 in /Users/williamyau/opt/anaconda3/lib/python3.8/site-packages (from arviz>=0.11.2->lightweight-mmm==0.1.9) (65.5.0)\n",
      "Requirement already satisfied: xarray>=0.21.0 in /Users/williamyau/opt/anaconda3/lib/python3.8/site-packages (from arviz>=0.11.2->lightweight-mmm==0.1.9) (2023.1.0)\n",
      "Requirement already satisfied: h5netcdf>=1.0.2 in /Users/williamyau/opt/anaconda3/lib/python3.8/site-packages (from arviz>=0.11.2->lightweight-mmm==0.1.9) (1.1.0)\n",
      "Requirement already satisfied: typing-extensions>=4.1.0 in /Users/williamyau/opt/anaconda3/lib/python3.8/site-packages (from arviz>=0.11.2->lightweight-mmm==0.1.9) (4.3.0)\n",
      "Requirement already satisfied: xarray-einstats>=0.3 in /Users/williamyau/opt/anaconda3/lib/python3.8/site-packages (from arviz>=0.11.2->lightweight-mmm==0.1.9) (0.5.1)\n",
      "Requirement already satisfied: ml-dtypes>=0.1.0 in /Users/williamyau/opt/anaconda3/lib/python3.8/site-packages (from jax>=0.3.18->lightweight-mmm==0.1.9) (0.2.0)\n",
      "Requirement already satisfied: opt-einsum in /Users/williamyau/opt/anaconda3/lib/python3.8/site-packages (from jax>=0.3.18->lightweight-mmm==0.1.9) (3.3.0)\n",
      "Requirement already satisfied: importlib-metadata>=4.6 in /Users/williamyau/opt/anaconda3/lib/python3.8/site-packages (from jax>=0.3.18->lightweight-mmm==0.1.9) (6.8.0)\n",
      "Requirement already satisfied: multipledispatch in /Users/williamyau/opt/anaconda3/lib/python3.8/site-packages (from numpyro>=0.9.2->lightweight-mmm==0.1.9) (1.0.0)\n",
      "Requirement already satisfied: tqdm in /Users/williamyau/opt/anaconda3/lib/python3.8/site-packages (from numpyro>=0.9.2->lightweight-mmm==0.1.9) (4.64.1)\n",
      "Requirement already satisfied: pytz>=2020.1 in /Users/williamyau/opt/anaconda3/lib/python3.8/site-packages (from pandas>=1.1.5->lightweight-mmm==0.1.9) (2022.1)\n",
      "Requirement already satisfied: tzdata>=2022.1 in /Users/williamyau/opt/anaconda3/lib/python3.8/site-packages (from pandas>=1.1.5->lightweight-mmm==0.1.9) (2024.1)\n",
      "Requirement already satisfied: patsy>=0.5.2 in /Users/williamyau/opt/anaconda3/lib/python3.8/site-packages (from statsmodels>=0.13.0->lightweight-mmm==0.1.9) (0.5.2)\n",
      "Requirement already satisfied: astunparse>=1.6.0 in /Users/williamyau/opt/anaconda3/lib/python3.8/site-packages (from tensorflow>=2.7.2->lightweight-mmm==0.1.9) (1.6.3)\n",
      "Requirement already satisfied: flatbuffers>=23.1.21 in /Users/williamyau/opt/anaconda3/lib/python3.8/site-packages (from tensorflow>=2.7.2->lightweight-mmm==0.1.9) (23.5.26)\n",
      "Requirement already satisfied: gast<=0.4.0,>=0.2.1 in /Users/williamyau/opt/anaconda3/lib/python3.8/site-packages (from tensorflow>=2.7.2->lightweight-mmm==0.1.9) (0.4.0)\n",
      "Requirement already satisfied: google-pasta>=0.1.1 in /Users/williamyau/opt/anaconda3/lib/python3.8/site-packages (from tensorflow>=2.7.2->lightweight-mmm==0.1.9) (0.2.0)\n",
      "Requirement already satisfied: h5py>=2.9.0 in /Users/williamyau/opt/anaconda3/lib/python3.8/site-packages (from tensorflow>=2.7.2->lightweight-mmm==0.1.9) (3.10.0)\n",
      "Requirement already satisfied: libclang>=13.0.0 in /Users/williamyau/opt/anaconda3/lib/python3.8/site-packages (from tensorflow>=2.7.2->lightweight-mmm==0.1.9) (16.0.6)\n",
      "Requirement already satisfied: protobuf!=4.21.0,!=4.21.1,!=4.21.2,!=4.21.3,!=4.21.4,!=4.21.5,<5.0.0dev,>=3.20.3 in /Users/williamyau/opt/anaconda3/lib/python3.8/site-packages (from tensorflow>=2.7.2->lightweight-mmm==0.1.9) (4.22.1)\n",
      "Requirement already satisfied: six>=1.12.0 in /Users/williamyau/opt/anaconda3/lib/python3.8/site-packages (from tensorflow>=2.7.2->lightweight-mmm==0.1.9) (1.16.0)\n",
      "Requirement already satisfied: termcolor>=1.1.0 in /Users/williamyau/opt/anaconda3/lib/python3.8/site-packages (from tensorflow>=2.7.2->lightweight-mmm==0.1.9) (1.1.0)\n",
      "Requirement already satisfied: wrapt>=1.11.0 in /Users/williamyau/opt/anaconda3/lib/python3.8/site-packages (from tensorflow>=2.7.2->lightweight-mmm==0.1.9) (1.15.0)\n",
      "Requirement already satisfied: grpcio<2.0,>=1.24.3 in /Users/williamyau/opt/anaconda3/lib/python3.8/site-packages (from tensorflow>=2.7.2->lightweight-mmm==0.1.9) (1.51.3)\n",
      "Requirement already satisfied: tensorboard<2.14,>=2.13 in /Users/williamyau/opt/anaconda3/lib/python3.8/site-packages (from tensorflow>=2.7.2->lightweight-mmm==0.1.9) (2.13.0)\n",
      "Requirement already satisfied: tensorflow-estimator<2.14,>=2.13.0 in /Users/williamyau/opt/anaconda3/lib/python3.8/site-packages (from tensorflow>=2.7.2->lightweight-mmm==0.1.9) (2.13.0)\n",
      "Requirement already satisfied: keras<2.14,>=2.13.1 in /Users/williamyau/opt/anaconda3/lib/python3.8/site-packages (from tensorflow>=2.7.2->lightweight-mmm==0.1.9) (2.13.1)\n",
      "Requirement already satisfied: tensorflow-io-gcs-filesystem>=0.23.1 in /Users/williamyau/opt/anaconda3/lib/python3.8/site-packages (from tensorflow>=2.7.2->lightweight-mmm==0.1.9) (0.34.0)\n",
      "Requirement already satisfied: joblib>=1.1.1 in /Users/williamyau/opt/anaconda3/lib/python3.8/site-packages (from scikit-learn->lightweight-mmm==0.1.9) (1.3.2)\n",
      "Requirement already satisfied: threadpoolctl>=2.0.0 in /Users/williamyau/opt/anaconda3/lib/python3.8/site-packages (from scikit-learn->lightweight-mmm==0.1.9) (3.0.0)\n",
      "Requirement already satisfied: wheel<1.0,>=0.23.0 in /Users/williamyau/opt/anaconda3/lib/python3.8/site-packages (from astunparse>=1.6.0->tensorflow>=2.7.2->lightweight-mmm==0.1.9) (0.37.1)\n",
      "Requirement already satisfied: zipp>=0.5 in /Users/williamyau/opt/anaconda3/lib/python3.8/site-packages (from importlib-metadata>=4.6->jax>=0.3.18->lightweight-mmm==0.1.9) (3.8.0)\n",
      "Requirement already satisfied: google-auth<3,>=1.6.3 in /Users/williamyau/opt/anaconda3/lib/python3.8/site-packages (from tensorboard<2.14,>=2.13->tensorflow>=2.7.2->lightweight-mmm==0.1.9) (2.23.3)\n",
      "Requirement already satisfied: google-auth-oauthlib<1.1,>=0.5 in /Users/williamyau/opt/anaconda3/lib/python3.8/site-packages (from tensorboard<2.14,>=2.13->tensorflow>=2.7.2->lightweight-mmm==0.1.9) (1.0.0)\n",
      "Requirement already satisfied: markdown>=2.6.8 in /Users/williamyau/opt/anaconda3/lib/python3.8/site-packages (from tensorboard<2.14,>=2.13->tensorflow>=2.7.2->lightweight-mmm==0.1.9) (3.5.2)\n",
      "Requirement already satisfied: requests<3,>=2.21.0 in /Users/williamyau/opt/anaconda3/lib/python3.8/site-packages (from tensorboard<2.14,>=2.13->tensorflow>=2.7.2->lightweight-mmm==0.1.9) (2.28.1)\n",
      "Requirement already satisfied: tensorboard-data-server<0.8.0,>=0.7.0 in /Users/williamyau/opt/anaconda3/lib/python3.8/site-packages (from tensorboard<2.14,>=2.13->tensorflow>=2.7.2->lightweight-mmm==0.1.9) (0.7.2)\n",
      "Requirement already satisfied: werkzeug>=1.0.1 in /Users/williamyau/opt/anaconda3/lib/python3.8/site-packages (from tensorboard<2.14,>=2.13->tensorflow>=2.7.2->lightweight-mmm==0.1.9) (2.0.2)\n",
      "Requirement already satisfied: cachetools<6.0,>=2.0.0 in /Users/williamyau/opt/anaconda3/lib/python3.8/site-packages (from google-auth<3,>=1.6.3->tensorboard<2.14,>=2.13->tensorflow>=2.7.2->lightweight-mmm==0.1.9) (5.3.0)\n",
      "Requirement already satisfied: pyasn1-modules>=0.2.1 in /Users/williamyau/opt/anaconda3/lib/python3.8/site-packages (from google-auth<3,>=1.6.3->tensorboard<2.14,>=2.13->tensorflow>=2.7.2->lightweight-mmm==0.1.9) (0.2.8)\n",
      "Requirement already satisfied: rsa<5,>=3.1.4 in /Users/williamyau/opt/anaconda3/lib/python3.8/site-packages (from google-auth<3,>=1.6.3->tensorboard<2.14,>=2.13->tensorflow>=2.7.2->lightweight-mmm==0.1.9) (4.9)\n",
      "Requirement already satisfied: requests-oauthlib>=0.7.0 in /Users/williamyau/opt/anaconda3/lib/python3.8/site-packages (from google-auth-oauthlib<1.1,>=0.5->tensorboard<2.14,>=2.13->tensorflow>=2.7.2->lightweight-mmm==0.1.9) (1.3.1)\n",
      "Requirement already satisfied: charset-normalizer<3,>=2 in /Users/williamyau/opt/anaconda3/lib/python3.8/site-packages (from requests<3,>=2.21.0->tensorboard<2.14,>=2.13->tensorflow>=2.7.2->lightweight-mmm==0.1.9) (2.0.4)\n",
      "Requirement already satisfied: idna<4,>=2.5 in /Users/williamyau/opt/anaconda3/lib/python3.8/site-packages (from requests<3,>=2.21.0->tensorboard<2.14,>=2.13->tensorflow>=2.7.2->lightweight-mmm==0.1.9) (2.10)\n",
      "Requirement already satisfied: urllib3<1.27,>=1.21.1 in /Users/williamyau/opt/anaconda3/lib/python3.8/site-packages (from requests<3,>=2.21.0->tensorboard<2.14,>=2.13->tensorflow>=2.7.2->lightweight-mmm==0.1.9) (1.26.12)\n",
      "Requirement already satisfied: certifi>=2017.4.17 in /Users/williamyau/opt/anaconda3/lib/python3.8/site-packages (from requests<3,>=2.21.0->tensorboard<2.14,>=2.13->tensorflow>=2.7.2->lightweight-mmm==0.1.9) (2022.9.24)\n",
      "Requirement already satisfied: pyasn1<0.5.0,>=0.4.6 in /Users/williamyau/opt/anaconda3/lib/python3.8/site-packages (from pyasn1-modules>=0.2.1->google-auth<3,>=1.6.3->tensorboard<2.14,>=2.13->tensorflow>=2.7.2->lightweight-mmm==0.1.9) (0.4.8)\n",
      "Requirement already satisfied: oauthlib>=3.0.0 in /Users/williamyau/opt/anaconda3/lib/python3.8/site-packages (from requests-oauthlib>=0.7.0->google-auth-oauthlib<1.1,>=0.5->tensorboard<2.14,>=2.13->tensorflow>=2.7.2->lightweight-mmm==0.1.9) (3.2.2)\n",
      "\u001b[33mWARNING: Ignoring invalid distribution -s50 (/Users/williamyau/opt/anaconda3/lib/python3.8/site-packages)\u001b[0m\u001b[33m\n",
      "\u001b[0m\u001b[33mWARNING: There was an error checking the latest version of pip.\u001b[0m\u001b[33m\n",
      "\u001b[0m"
     ]
    }
   ],
   "source": [
    "# First would be to install lightweight_mmm\n",
    "!pip install --upgrade git+https://github.com/google/lightweight_mmm.git\n",
    "# !pip uninstall -y matplotlib\n",
    "# !pip install matplotlib==3.1.3"
   ]
  },
  {
   "cell_type": "code",
   "execution_count": 2,
   "metadata": {},
   "outputs": [
    {
     "name": "stdout",
     "output_type": "stream",
     "text": [
      "\u001b[33mWARNING: Ignoring invalid distribution -s50 (/Users/williamyau/opt/anaconda3/lib/python3.8/site-packages)\u001b[0m\u001b[33m\n",
      "\u001b[0mRequirement already satisfied: jax in /Users/williamyau/opt/anaconda3/lib/python3.8/site-packages (0.4.13)\n",
      "Requirement already satisfied: jaxlib in /Users/williamyau/opt/anaconda3/lib/python3.8/site-packages (0.4.13)\n",
      "Requirement already satisfied: ml-dtypes>=0.1.0 in /Users/williamyau/opt/anaconda3/lib/python3.8/site-packages (from jax) (0.2.0)\n",
      "Requirement already satisfied: numpy>=1.21 in /Users/williamyau/opt/anaconda3/lib/python3.8/site-packages (from jax) (1.23.5)\n",
      "Requirement already satisfied: opt-einsum in /Users/williamyau/opt/anaconda3/lib/python3.8/site-packages (from jax) (3.3.0)\n",
      "Requirement already satisfied: scipy>=1.7 in /Users/williamyau/opt/anaconda3/lib/python3.8/site-packages (from jax) (1.10.1)\n",
      "Requirement already satisfied: importlib-metadata>=4.6 in /Users/williamyau/opt/anaconda3/lib/python3.8/site-packages (from jax) (6.8.0)\n",
      "Requirement already satisfied: zipp>=0.5 in /Users/williamyau/opt/anaconda3/lib/python3.8/site-packages (from importlib-metadata>=4.6->jax) (3.8.0)\n",
      "\u001b[33mWARNING: Ignoring invalid distribution -s50 (/Users/williamyau/opt/anaconda3/lib/python3.8/site-packages)\u001b[0m\u001b[33m\n",
      "\u001b[0m\u001b[33mWARNING: There was an error checking the latest version of pip.\u001b[0m\u001b[33m\n",
      "\u001b[0m"
     ]
    }
   ],
   "source": [
    "!pip install jax jaxlib"
   ]
  },
  {
   "cell_type": "code",
   "execution_count": 3,
   "metadata": {
    "id": "afF7ZlEz37eC"
   },
   "outputs": [
    {
     "ename": "RuntimeError",
     "evalue": "This version of jaxlib was built using AVX instructions, which your CPU and/or operating system do not support. You may be able work around this issue by building jaxlib from source.",
     "output_type": "error",
     "traceback": [
      "\u001b[0;31m---------------------------------------------------------------------------\u001b[0m",
      "\u001b[0;31mRuntimeError\u001b[0m                              Traceback (most recent call last)",
      "\u001b[0;32m/var/folders/zy/0yc78h6x5xq7w_xzp3jlfvzr0000gn/T/ipykernel_56804/716898035.py\u001b[0m in \u001b[0;36m<module>\u001b[0;34m\u001b[0m\n\u001b[1;32m      1\u001b[0m \u001b[0;31m# Import jax.numpy and any other library we might need.\u001b[0m\u001b[0;34m\u001b[0m\u001b[0;34m\u001b[0m\u001b[0;34m\u001b[0m\u001b[0m\n\u001b[0;32m----> 2\u001b[0;31m \u001b[0;32mimport\u001b[0m \u001b[0mjax\u001b[0m\u001b[0;34m.\u001b[0m\u001b[0mnumpy\u001b[0m \u001b[0;32mas\u001b[0m \u001b[0mjnp\u001b[0m\u001b[0;34m\u001b[0m\u001b[0;34m\u001b[0m\u001b[0m\n\u001b[0m\u001b[1;32m      3\u001b[0m \u001b[0;32mimport\u001b[0m \u001b[0mnumpyro\u001b[0m\u001b[0;34m\u001b[0m\u001b[0;34m\u001b[0m\u001b[0m\n\u001b[1;32m      4\u001b[0m \u001b[0;32mimport\u001b[0m \u001b[0mpandas\u001b[0m \u001b[0;32mas\u001b[0m \u001b[0mpd\u001b[0m\u001b[0;34m\u001b[0m\u001b[0;34m\u001b[0m\u001b[0m\n",
      "\u001b[0;32m~/opt/anaconda3/lib/python3.8/site-packages/jax/__init__.py\u001b[0m in \u001b[0;36m<module>\u001b[0;34m\u001b[0m\n\u001b[1;32m     33\u001b[0m \u001b[0;31m# We want the exported object to be the class, so we first import the module\u001b[0m\u001b[0;34m\u001b[0m\u001b[0;34m\u001b[0m\u001b[0;34m\u001b[0m\u001b[0m\n\u001b[1;32m     34\u001b[0m \u001b[0;31m# to make sure a later import doesn't overwrite the class.\u001b[0m\u001b[0;34m\u001b[0m\u001b[0;34m\u001b[0m\u001b[0;34m\u001b[0m\u001b[0m\n\u001b[0;32m---> 35\u001b[0;31m \u001b[0;32mfrom\u001b[0m \u001b[0mjax\u001b[0m \u001b[0;32mimport\u001b[0m \u001b[0mconfig\u001b[0m \u001b[0;32mas\u001b[0m \u001b[0m_config_module\u001b[0m\u001b[0;34m\u001b[0m\u001b[0;34m\u001b[0m\u001b[0m\n\u001b[0m\u001b[1;32m     36\u001b[0m \u001b[0;32mdel\u001b[0m \u001b[0m_config_module\u001b[0m\u001b[0;34m\u001b[0m\u001b[0;34m\u001b[0m\u001b[0m\n\u001b[1;32m     37\u001b[0m \u001b[0;34m\u001b[0m\u001b[0m\n",
      "\u001b[0;32m~/opt/anaconda3/lib/python3.8/site-packages/jax/config.py\u001b[0m in \u001b[0;36m<module>\u001b[0;34m\u001b[0m\n\u001b[1;32m     15\u001b[0m \u001b[0;31m# TODO(phawkins): fix users of this alias and delete this file.\u001b[0m\u001b[0;34m\u001b[0m\u001b[0;34m\u001b[0m\u001b[0;34m\u001b[0m\u001b[0m\n\u001b[1;32m     16\u001b[0m \u001b[0;34m\u001b[0m\u001b[0m\n\u001b[0;32m---> 17\u001b[0;31m \u001b[0;32mfrom\u001b[0m \u001b[0mjax\u001b[0m\u001b[0;34m.\u001b[0m\u001b[0m_src\u001b[0m\u001b[0;34m.\u001b[0m\u001b[0mconfig\u001b[0m \u001b[0;32mimport\u001b[0m \u001b[0mconfig\u001b[0m  \u001b[0;31m# noqa: F401\u001b[0m\u001b[0;34m\u001b[0m\u001b[0;34m\u001b[0m\u001b[0m\n\u001b[0m",
      "\u001b[0;32m~/opt/anaconda3/lib/python3.8/site-packages/jax/_src/config.py\u001b[0m in \u001b[0;36m<module>\u001b[0;34m\u001b[0m\n\u001b[1;32m     22\u001b[0m \u001b[0;32mfrom\u001b[0m \u001b[0mtyping\u001b[0m \u001b[0;32mimport\u001b[0m \u001b[0mAny\u001b[0m\u001b[0;34m,\u001b[0m \u001b[0mList\u001b[0m\u001b[0;34m,\u001b[0m \u001b[0mCallable\u001b[0m\u001b[0;34m,\u001b[0m \u001b[0mHashable\u001b[0m\u001b[0;34m,\u001b[0m \u001b[0mNamedTuple\u001b[0m\u001b[0;34m,\u001b[0m \u001b[0mIterator\u001b[0m\u001b[0;34m,\u001b[0m \u001b[0mOptional\u001b[0m\u001b[0;34m\u001b[0m\u001b[0;34m\u001b[0m\u001b[0m\n\u001b[1;32m     23\u001b[0m \u001b[0;34m\u001b[0m\u001b[0m\n\u001b[0;32m---> 24\u001b[0;31m \u001b[0;32mfrom\u001b[0m \u001b[0mjax\u001b[0m\u001b[0;34m.\u001b[0m\u001b[0m_src\u001b[0m \u001b[0;32mimport\u001b[0m \u001b[0mlib\u001b[0m\u001b[0;34m\u001b[0m\u001b[0;34m\u001b[0m\u001b[0m\n\u001b[0m\u001b[1;32m     25\u001b[0m \u001b[0;32mfrom\u001b[0m \u001b[0mjax\u001b[0m\u001b[0;34m.\u001b[0m\u001b[0m_src\u001b[0m\u001b[0;34m.\u001b[0m\u001b[0mlib\u001b[0m \u001b[0;32mimport\u001b[0m \u001b[0mjax_jit\u001b[0m\u001b[0;34m\u001b[0m\u001b[0;34m\u001b[0m\u001b[0m\n\u001b[1;32m     26\u001b[0m \u001b[0;32mfrom\u001b[0m \u001b[0mjax\u001b[0m\u001b[0;34m.\u001b[0m\u001b[0m_src\u001b[0m\u001b[0;34m.\u001b[0m\u001b[0mlib\u001b[0m \u001b[0;32mimport\u001b[0m \u001b[0mtransfer_guard_lib\u001b[0m\u001b[0;34m\u001b[0m\u001b[0;34m\u001b[0m\u001b[0m\n",
      "\u001b[0;32m~/opt/anaconda3/lib/python3.8/site-packages/jax/_src/lib/__init__.py\u001b[0m in \u001b[0;36m<module>\u001b[0;34m\u001b[0m\n\u001b[1;32m     82\u001b[0m \u001b[0;31m# uses instructions that are present on this machine.\u001b[0m\u001b[0;34m\u001b[0m\u001b[0;34m\u001b[0m\u001b[0;34m\u001b[0m\u001b[0m\n\u001b[1;32m     83\u001b[0m \u001b[0;32mimport\u001b[0m \u001b[0mjaxlib\u001b[0m\u001b[0;34m.\u001b[0m\u001b[0mcpu_feature_guard\u001b[0m \u001b[0;32mas\u001b[0m \u001b[0mcpu_feature_guard\u001b[0m\u001b[0;34m\u001b[0m\u001b[0;34m\u001b[0m\u001b[0m\n\u001b[0;32m---> 84\u001b[0;31m \u001b[0mcpu_feature_guard\u001b[0m\u001b[0;34m.\u001b[0m\u001b[0mcheck_cpu_features\u001b[0m\u001b[0;34m(\u001b[0m\u001b[0;34m)\u001b[0m\u001b[0;34m\u001b[0m\u001b[0;34m\u001b[0m\u001b[0m\n\u001b[0m\u001b[1;32m     85\u001b[0m \u001b[0;34m\u001b[0m\u001b[0m\n\u001b[1;32m     86\u001b[0m \u001b[0;31m# TODO(phawkins): remove after minimium jaxlib version is 0.4.9 or newer.\u001b[0m\u001b[0;34m\u001b[0m\u001b[0;34m\u001b[0m\u001b[0;34m\u001b[0m\u001b[0m\n",
      "\u001b[0;31mRuntimeError\u001b[0m: This version of jaxlib was built using AVX instructions, which your CPU and/or operating system do not support. You may be able work around this issue by building jaxlib from source."
     ]
    }
   ],
   "source": [
    "# Import jax.numpy and any other library we might need.\n",
    "import jax.numpy as jnp\n",
    "import numpyro\n",
    "import pandas as pd"
   ]
  },
  {
   "cell_type": "code",
   "execution_count": null,
   "metadata": {
    "id": "Ltk-rB9y-_fh"
   },
   "outputs": [],
   "source": [
    "# Import the relevant modules of the library\n",
    "from lightweight_mmm import lightweight_mmm\n",
    "from lightweight_mmm import optimize_media\n",
    "from lightweight_mmm import plot\n",
    "from lightweight_mmm import preprocessing\n",
    "from lightweight_mmm import utils"
   ]
  },
  {
   "cell_type": "markdown",
   "metadata": {
    "id": "lGa5iPF4zdOo"
   },
   "source": [
    "## Organising the data for modelling"
   ]
  },
  {
   "cell_type": "code",
   "execution_count": null,
   "metadata": {
    "colab": {
     "base_uri": "https://localhost:8080/",
     "height": 443
    },
    "id": "oCfaLnmNZHqc",
    "outputId": "d4ab8b59-5505-48c1-9ee9-4aff5075cb0e"
   },
   "outputs": [],
   "source": [
    "csv=\"/content/bike_sales_data.csv\"\n",
    "df=pd.read_csv(csv) #, index_col=0)\n",
    "df\n",
    "\n"
   ]
  },
  {
   "cell_type": "code",
   "execution_count": null,
   "metadata": {
    "id": "quH_FJFfZ-eU"
   },
   "outputs": [],
   "source": [
    "\n",
    "media_data = df[['branded_search_spend', 'nonbranded_search_spend','facebook_spend', 'print_spend', 'ooh_spend','tv_spend', 'radio_spend']].to_numpy()\n",
    "target = df[['sales']].to_numpy()\n",
    "costs = df[['branded_search_spend', 'nonbranded_search_spend','facebook_spend', 'print_spend', 'ooh_spend','tv_spend', 'radio_spend']].sum().to_numpy()"
   ]
  },
  {
   "cell_type": "code",
   "execution_count": null,
   "metadata": {
    "colab": {
     "base_uri": "https://localhost:8080/"
    },
    "id": "rwQAupvsbmdt",
    "outputId": "3714c386-7c13-4f95-bc34-0d2187a48c92"
   },
   "outputs": [],
   "source": [
    "media_data.shape"
   ]
  },
  {
   "cell_type": "code",
   "execution_count": null,
   "metadata": {
    "id": "HO4BQ-obbsyW"
   },
   "outputs": [],
   "source": [
    "data_size = media_data.shape[0]"
   ]
  },
  {
   "cell_type": "code",
   "execution_count": null,
   "metadata": {
    "id": "xMMKo3fK4UN4"
   },
   "outputs": [],
   "source": [
    "# Split and scale data.\n",
    "split_point = data_size - 30\n",
    "# Media data\n",
    "media_data_train = media_data[:split_point, ...]\n",
    "media_data_test = media_data[split_point:, ...]\n",
    "# Target\n",
    "target_train = target[:split_point].reshape(-1)"
   ]
  },
  {
   "cell_type": "code",
   "execution_count": null,
   "metadata": {
    "id": "B-19ZTfx4uh5"
   },
   "outputs": [],
   "source": [
    "media_scaler = preprocessing.CustomScaler(divide_operation=jnp.mean)\n",
    "target_scaler = preprocessing.CustomScaler(divide_operation=jnp.mean)\n",
    "cost_scaler = preprocessing.CustomScaler(divide_operation=jnp.mean)\n",
    "\n",
    "media_data_train = media_scaler.fit_transform(media_data_train)\n",
    "target_train = target_scaler.fit_transform(target_train)\n",
    "costs2 = cost_scaler.fit_transform(costs)"
   ]
  },
  {
   "cell_type": "code",
   "execution_count": null,
   "metadata": {
    "id": "nTmDycd3J-Iw"
   },
   "outputs": [],
   "source": [
    "mmm = lightweight_mmm.LightweightMMM(model_name=\"carryover\") #hill-adstock or adstock"
   ]
  },
  {
   "cell_type": "code",
   "execution_count": null,
   "metadata": {
    "id": "aza-wH0N2d52"
   },
   "outputs": [],
   "source": [
    "number_warmup=100\n",
    "number_samples=100\n"
   ]
  },
  {
   "cell_type": "code",
   "execution_count": null,
   "metadata": {
    "colab": {
     "base_uri": "https://localhost:8080/"
    },
    "id": "FtVwGQITKDQp",
    "outputId": "37088a45-fef4-4dfc-8ec3-bf1c1f505533"
   },
   "outputs": [],
   "source": [
    "\n",
    "mmm.fit(\n",
    "    media=media_data_train,\n",
    "    media_prior=costs2,\n",
    "    target=target_train,\n",
    "    number_warmup=number_warmup,\n",
    "    number_samples=number_samples,\n",
    "    number_chains=1,\n",
    "    )"
   ]
  },
  {
   "cell_type": "code",
   "execution_count": null,
   "metadata": {
    "colab": {
     "base_uri": "https://localhost:8080/"
    },
    "id": "sJUiM-1vKMt_",
    "outputId": "d88ae1ae-210d-440e-bd58-17d28f73e8d7"
   },
   "outputs": [],
   "source": [
    "mmm.print_summary()"
   ]
  },
  {
   "cell_type": "code",
   "execution_count": null,
   "metadata": {
    "colab": {
     "base_uri": "https://localhost:8080/",
     "height": 1000
    },
    "id": "BpqYqFNqKNTc",
    "outputId": "8e3656db-65e6-46e9-abb0-a3c6de9b829b"
   },
   "outputs": [],
   "source": [
    "plot.plot_media_channel_posteriors(media_mix_model=mmm)"
   ]
  },
  {
   "cell_type": "code",
   "execution_count": null,
   "metadata": {
    "colab": {
     "base_uri": "https://localhost:8080/",
     "height": 507
    },
    "id": "aprFRKYibdzb",
    "outputId": "98f10417-3d28-4dab-84ba-724a17ee95bf"
   },
   "outputs": [],
   "source": [
    "plot.plot_model_fit(mmm, target_scaler=target_scaler)"
   ]
  },
  {
   "cell_type": "code",
   "execution_count": null,
   "metadata": {
    "colab": {
     "base_uri": "https://localhost:8080/"
    },
    "id": "yQuUUolAKN0W",
    "outputId": "dc89de0a-8a1f-4489-d545-3c4b0c15a78c"
   },
   "outputs": [],
   "source": [
    "# We have to scale the test media data if we have not done so before.\n",
    "new_predictions = mmm.predict(media=media_scaler.transform(media_data_test))\n",
    "new_predictions.shape"
   ]
  },
  {
   "cell_type": "code",
   "execution_count": null,
   "metadata": {
    "colab": {
     "base_uri": "https://localhost:8080/",
     "height": 452
    },
    "id": "1JeYI6u1bVNx",
    "outputId": "f2f50c5c-fac7-4a3f-be7d-e27886318dc5"
   },
   "outputs": [],
   "source": [
    "plot.plot_out_of_sample_model_fit(out_of_sample_predictions=new_predictions,\n",
    "                                 out_of_sample_target=target_scaler.transform(target[split_point:].squeeze()))"
   ]
  },
  {
   "cell_type": "markdown",
   "metadata": {
    "id": "MDMW2Pe-KOEm"
   },
   "source": [
    "### Media insights"
   ]
  },
  {
   "cell_type": "code",
   "execution_count": null,
   "metadata": {
    "id": "qQUnoKKQKONT"
   },
   "outputs": [],
   "source": [
    "media_contribution, roi_hat = mmm.get_posterior_metrics(target_scaler=target_scaler, cost_scaler=cost_scaler)"
   ]
  },
  {
   "cell_type": "code",
   "execution_count": null,
   "metadata": {
    "id": "xGimlD7pc-tA"
   },
   "outputs": [],
   "source": [
    "from matplotlib import pyplot as plt\n",
    "import numpy as np\n",
    "\n",
    "def custom_plot_media_baseline_contribution_area_plot(\n",
    "        media_mix_model,\n",
    "        target_scaler=None,\n",
    "        channel_names=None,\n",
    "        fig_size = (20, 7)):\n",
    "      \"\"\"Plots an area chart to visualize weekly media & baseline contribution.\n",
    "\n",
    "      Args:\n",
    "        media_mix_model: Media mix model.\n",
    "        target_scaler: Scaler used for scaling the target.\n",
    "        channel_names: Names of media channels.\n",
    "        fig_size: Size of the figure to plot as used by matplotlib.\n",
    "\n",
    "      Returns:\n",
    "        Stacked area chart of weekly baseline & media contribution.\n",
    "      \"\"\"\n",
    "      # Create media channels & baseline contribution dataframe.\n",
    "      contribution_df = plot.create_media_baseline_contribution_df(\n",
    "          media_mix_model=media_mix_model,\n",
    "          target_scaler=target_scaler,\n",
    "          channel_names=channel_names)\n",
    "      contribution_df = contribution_df.clip(0)\n",
    "\n",
    "      # Create contribution dataframe for the plot.\n",
    "      contribution_columns = [\n",
    "          col for col in contribution_df.columns if \"contribution\" in col\n",
    "      ]\n",
    "      contribution_df_for_plot = contribution_df.loc[:, contribution_columns]\n",
    "      contribution_df_for_plot = contribution_df_for_plot[\n",
    "          contribution_df_for_plot.columns[::-1]]\n",
    "      period = np.arange(1, contribution_df_for_plot.shape[0] + 1)\n",
    "      contribution_df_for_plot.loc[:, \"period\"] = period\n",
    "\n",
    "      # Plot the stacked area chart.\n",
    "      fig, ax = plt.subplots()\n",
    "      contribution_df_for_plot.plot.area(\n",
    "          x=\"period\", stacked=True, figsize=fig_size, ax=ax)\n",
    "      ax.set_title(\"Attribution Over Time\", fontsize=\"x-large\")\n",
    "      ax.tick_params(axis=\"y\")\n",
    "      ax.set_ylabel(\"Baseline & Media Chanels Attribution\")\n",
    "      ax.set_xlabel(\"Period\")\n",
    "      ax.set_xlim(1, contribution_df_for_plot[\"period\"].max())\n",
    "      ax.set_xticks(contribution_df_for_plot[\"period\"])\n",
    "      ax.set_xticklabels(contribution_df_for_plot[\"period\"])\n",
    "      for tick in ax.get_xticklabels():\n",
    "        tick.set_rotation(45)\n",
    "      plt.close()\n",
    "      return fig\n"
   ]
  },
  {
   "cell_type": "code",
   "execution_count": null,
   "metadata": {
    "colab": {
     "base_uri": "https://localhost:8080/",
     "height": 551
    },
    "id": "G7uogajxApbw",
    "outputId": "b5a744b9-f5a1-4399-b604-201e676a78a7"
   },
   "outputs": [],
   "source": [
    "custom_plot_media_baseline_contribution_area_plot(media_mix_model=mmm,\n",
    "                                                target_scaler=target_scaler,\n",
    "                                                fig_size=(30,10))"
   ]
  },
  {
   "cell_type": "code",
   "execution_count": null,
   "metadata": {
    "colab": {
     "base_uri": "https://localhost:8080/",
     "height": 480
    },
    "id": "Hi3nJDE8KOfk",
    "outputId": "88f60612-c5d3-4867-d6be-8f312ea2fd4d"
   },
   "outputs": [],
   "source": [
    "plot.plot_bars_media_metrics(metric=media_contribution, metric_name=\"Media Contribution Percentage\")"
   ]
  },
  {
   "cell_type": "code",
   "execution_count": null,
   "metadata": {
    "colab": {
     "base_uri": "https://localhost:8080/",
     "height": 480
    },
    "id": "oC82BdUJKOoT",
    "outputId": "61fff582-b7d5-42aa-8249-b8ad22ffaecb"
   },
   "outputs": [],
   "source": [
    "plot.plot_bars_media_metrics(metric=roi_hat, metric_name=\"ROI hat\")"
   ]
  },
  {
   "cell_type": "code",
   "execution_count": null,
   "metadata": {
    "colab": {
     "base_uri": "https://localhost:8080/",
     "height": 1000
    },
    "id": "w6DfZdyUKO6k",
    "outputId": "def47c4c-45ce-48f1-a1ce-f910dc361b8a"
   },
   "outputs": [],
   "source": [
    "plot.plot_response_curves(\n",
    "    media_mix_model=mmm, target_scaler=target_scaler)"
   ]
  },
  {
   "cell_type": "markdown",
   "metadata": {
    "id": "WG7bQ_ZHe9rS"
   },
   "source": [
    "# Optimization"
   ]
  },
  {
   "cell_type": "code",
   "execution_count": null,
   "metadata": {
    "id": "t3TaoXYjKPmr"
   },
   "outputs": [],
   "source": [
    "prices = jnp.ones(mmm.n_media_channels)"
   ]
  },
  {
   "cell_type": "code",
   "execution_count": null,
   "metadata": {
    "id": "ReGi5AGTL86q"
   },
   "outputs": [],
   "source": [
    "n_time_periods = 10\n",
    "budget = jnp.sum(jnp.dot(prices, media_data.mean(axis=0)))* n_time_periods"
   ]
  },
  {
   "cell_type": "code",
   "execution_count": null,
   "metadata": {
    "colab": {
     "base_uri": "https://localhost:8080/"
    },
    "id": "qtt9L4aPL-cs",
    "outputId": "66c7b718-4807-4a9a-e18f-19d7b235616a"
   },
   "outputs": [],
   "source": [
    "# Run optimization with the parameters of choice.\n",
    "solution, kpi_without_optim, previous_budget_allocation = optimize_media.find_optimal_budgets(\n",
    "    n_time_periods=n_time_periods,\n",
    "    media_mix_model=mmm,\n",
    "    budget=budget,\n",
    "    prices=prices,\n",
    "    media_scaler=media_scaler,\n",
    "    target_scaler=target_scaler)"
   ]
  },
  {
   "cell_type": "code",
   "execution_count": null,
   "metadata": {
    "colab": {
     "base_uri": "https://localhost:8080/"
    },
    "id": "C2FIJu82MAk9",
    "outputId": "99b9b407-3715-43fb-a16a-5eecee8e3da9"
   },
   "outputs": [],
   "source": [
    "# Obtain the optimal weekly allocation.\n",
    "optimal_buget_allocation = prices * solution.x\n",
    "optimal_buget_allocation"
   ]
  },
  {
   "cell_type": "markdown",
   "metadata": {
    "id": "aK21EDOyzDC3"
   },
   "source": [
    "## We can plot the following:\n",
    "1. Pre post optimization budget allocation comparison for each channel\n",
    "2. Pre post optimization predicted target variable comparison"
   ]
  },
  {
   "cell_type": "code",
   "execution_count": null,
   "metadata": {
    "colab": {
     "base_uri": "https://localhost:8080/",
     "height": 1000
    },
    "id": "0jRI8ynqzFip",
    "outputId": "3f19c454-cac4-4cd7-8e11-958a48ad72cf"
   },
   "outputs": [],
   "source": [
    "# Plot out pre post optimization budget allocation and predicted target variable comparison.\n",
    "plot.plot_pre_post_budget_allocation_comparison(media_mix_model=mmm,\n",
    "                                                kpi_with_optim=solution['fun'],\n",
    "                                                kpi_without_optim=kpi_without_optim,\n",
    "                                                optimal_buget_allocation=optimal_buget_allocation,\n",
    "                                                previous_budget_allocation=previous_budget_allocation,\n",
    "                                                figure_size=(10,10))"
   ]
  }
 ],
 "metadata": {
  "colab": {
   "provenance": []
  },
  "kernelspec": {
   "display_name": "Python 3 (ipykernel)",
   "language": "python",
   "name": "python3"
  },
  "language_info": {
   "codemirror_mode": {
    "name": "ipython",
    "version": 3
   },
   "file_extension": ".py",
   "mimetype": "text/x-python",
   "name": "python",
   "nbconvert_exporter": "python",
   "pygments_lexer": "ipython3",
   "version": "3.8.13"
  }
 },
 "nbformat": 4,
 "nbformat_minor": 4
}
